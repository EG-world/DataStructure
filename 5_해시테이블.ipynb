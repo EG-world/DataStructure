{
  "nbformat": 4,
  "nbformat_minor": 0,
  "metadata": {
    "colab": {
      "provenance": [],
      "authorship_tag": "ABX9TyN8t3bIQmwbqUd1p67qjdLY",
      "include_colab_link": true
    },
    "kernelspec": {
      "name": "python3",
      "display_name": "Python 3"
    },
    "language_info": {
      "name": "python"
    }
  },
  "cells": [
    {
      "cell_type": "markdown",
      "metadata": {
        "id": "view-in-github",
        "colab_type": "text"
      },
      "source": [
        "<a href=\"https://colab.research.google.com/github/EG-world/DataStructure/blob/main/5_%ED%95%B4%EC%8B%9C%ED%85%8C%EC%9D%B4%EB%B8%94.ipynb\" target=\"_parent\"><img src=\"https://colab.research.google.com/assets/colab-badge.svg\" alt=\"Open In Colab\"/></a>"
      ]
    },
    {
      "cell_type": "markdown",
      "source": [
        "# **1. 해시 테이블(Hash Table)**\n",
        "* 키(key)에 데이터(value)를 저장하는 데이터 구조\n",
        "* 파이썬에서는 해시를 별도 구현할 필요가 없음\n",
        "* 파이썬 딕셔너리(Dictionary) 타입이 해시 테이블의 예\n",
        "* key를 통해 데이터를 바로 찾을 수 있으므로 검색 속도가 빨라짐\n",
        "* 보통 배열로 미리 hash table 사이즈 만큼 생성 후에 사용"
      ],
      "metadata": {
        "id": "AA9gkzFz6Mt_"
      }
    },
    {
      "cell_type": "markdown",
      "source": [
        "# **2. 알아둘 용어**\n",
        "* 해시(Hash) : 임의 값을 고정길이로 변환하는 것\n",
        "* 해시 테이블(Hash Table) : key값의 연산에 의해서 직접 접근이 가능한 데이터 구조\n",
        "* 해시 함수(Hashing Function) : key에 대해 산술 연산을 이용해 데이터 위치를 찾을 수 있는 함수\n",
        "* 해시 값(Hash Value) 또는 해시 주소(Hash Address) : key를 해싱 함수로 연산해서 해시 값을 알아내고 이를 기반으로 해시 테이블에 해당 key에 대한 데이터 위치를 일관성 있게 찾을 수 있음\n",
        "* 슬롯(Slot) : 한개의 데이터를 저장 할 수 있는 공간"
      ],
      "metadata": {
        "id": "Kynn68v-6yvq"
      }
    },
    {
      "cell_type": "markdown",
      "source": [
        "# **3. 간단한 해시 테이블 만들기**"
      ],
      "metadata": {
        "id": "pTOLnTGJ7vTm"
      }
    },
    {
      "cell_type": "markdown",
      "source": [
        "### 3-1. Hash Table 만들기"
      ],
      "metadata": {
        "id": "k0zmd6898ewH"
      }
    },
    {
      "cell_type": "code",
      "source": [
        "hash_table = list([i for i in range(10)])\n",
        "hash_table"
      ],
      "metadata": {
        "colab": {
          "base_uri": "https://localhost:8080/"
        },
        "id": "-0ObKB_-8jou",
        "outputId": "7aca2fbe-0521-4c5c-fba2-bf4ec5c805aa"
      },
      "execution_count": 2,
      "outputs": [
        {
          "output_type": "execute_result",
          "data": {
            "text/plain": [
              "[0, 1, 2, 3, 4, 5, 6, 7, 8, 9]"
            ]
          },
          "metadata": {},
          "execution_count": 2
        }
      ]
    },
    {
      "cell_type": "markdown",
      "source": [
        "### 3-2. Hashing Function 만들기\n",
        "* 해시 함수는 다양한 고안 기법이 있으며, 가장 간단한 방법인 divisionn법(나누기를 통한 나머지 값을 사용하는 기법)을 사용해보자"
      ],
      "metadata": {
        "id": "AAATVaJk8pbk"
      }
    },
    {
      "cell_type": "code",
      "source": [
        "def hash_func(key) :\n",
        "  return key % 5"
      ],
      "metadata": {
        "id": "LlXD_Bfq82AV"
      },
      "execution_count": 3,
      "outputs": []
    },
    {
      "cell_type": "markdown",
      "source": [
        "### 3-3. Hash Table에 저장하기"
      ],
      "metadata": {
        "id": "W71Dvjla9Ejl"
      }
    },
    {
      "cell_type": "code",
      "source": [
        "data1 = 'apple'\n",
        "data2 = 'banana'\n",
        "data3 = 'orange'\n",
        "data4 = 'melon'\n",
        "\n",
        "# ord() : 문자의 아스키코드를 리턴\n",
        "print(ord(data1[0]))\n",
        "print(ord(data2[0]))\n",
        "print(ord(data3[0]))\n",
        "print(ord(data4[0]))"
      ],
      "metadata": {
        "colab": {
          "base_uri": "https://localhost:8080/"
        },
        "id": "R1uYn1Oo9I-R",
        "outputId": "35b7ba59-9154-4e1e-aa73-a8fd17617255"
      },
      "execution_count": 8,
      "outputs": [
        {
          "output_type": "stream",
          "name": "stdout",
          "text": [
            "97\n",
            "98\n",
            "111\n",
            "109\n"
          ]
        }
      ]
    },
    {
      "cell_type": "code",
      "source": [
        "print(hash_func(ord(data1[0])))"
      ],
      "metadata": {
        "colab": {
          "base_uri": "https://localhost:8080/"
        },
        "id": "jpUieEFX9JOb",
        "outputId": "af266e65-7608-47ab-8956-ba3b2f30e28f"
      },
      "execution_count": 9,
      "outputs": [
        {
          "output_type": "stream",
          "name": "stdout",
          "text": [
            "2\n"
          ]
        }
      ]
    },
    {
      "cell_type": "code",
      "source": [
        "def storage_data(key, value) :\n",
        "  k = ord(key[0])\n",
        "  hash_address = hash_func(k)\n",
        "  hash_table[hash_address] = value"
      ],
      "metadata": {
        "id": "z2Lwzmwh9KH2"
      },
      "execution_count": 10,
      "outputs": []
    },
    {
      "cell_type": "code",
      "source": [
        "storage_data('apple', '김사과')\n",
        "storage_data('banana', '반하나')\n",
        "storage_data('orange', '오렌지')"
      ],
      "metadata": {
        "id": "hDgH1xoo9KEV"
      },
      "execution_count": 11,
      "outputs": []
    },
    {
      "cell_type": "code",
      "source": [
        "hash_table"
      ],
      "metadata": {
        "colab": {
          "base_uri": "https://localhost:8080/"
        },
        "id": "lB_lQMOP9KBb",
        "outputId": "902bd247-1c17-4d6b-e014-e86fad0ab24a"
      },
      "execution_count": 12,
      "outputs": [
        {
          "output_type": "execute_result",
          "data": {
            "text/plain": [
              "[0, '오렌지', '김사과', '반하나', 4, 5, 6, 7, 8, 9]"
            ]
          },
          "metadata": {},
          "execution_count": 12
        }
      ]
    },
    {
      "cell_type": "markdown",
      "source": [
        "### 문제1\n",
        "key를 전달받아 저장된 값을 읽어오는 함수를 작성해보자\n",
        "```\n",
        "def get_data(data):\n",
        "  pass\n",
        "```"
      ],
      "metadata": {
        "id": "SKa0G7919J96"
      }
    },
    {
      "cell_type": "code",
      "source": [
        "def get_data(key) :\n",
        "  return hash_table[hash_func(ord(key[0]))]\n",
        "\n",
        "# def get_data(key) :\n",
        "#   k = ord(key[0])\n",
        "#   hash_address = hash_func(k)\n",
        "#   return hash_table[hash_address]"
      ],
      "metadata": {
        "id": "sQpYSEI89J68"
      },
      "execution_count": 24,
      "outputs": []
    },
    {
      "cell_type": "code",
      "source": [
        "get_data('banana')"
      ],
      "metadata": {
        "colab": {
          "base_uri": "https://localhost:8080/",
          "height": 35
        },
        "id": "2aa3nnPg9J4A",
        "outputId": "0412cd70-a66d-4815-d5f3-dbaa26148b61"
      },
      "execution_count": 22,
      "outputs": [
        {
          "output_type": "execute_result",
          "data": {
            "text/plain": [
              "'반하나'"
            ],
            "application/vnd.google.colaboratory.intrinsic+json": {
              "type": "string"
            }
          },
          "metadata": {},
          "execution_count": 22
        }
      ]
    },
    {
      "cell_type": "code",
      "source": [
        "get_data('apple')"
      ],
      "metadata": {
        "colab": {
          "base_uri": "https://localhost:8080/",
          "height": 35
        },
        "id": "jqdjpEYA9J0i",
        "outputId": "a89dbf39-e3dc-449d-e907-7113019bedf6"
      },
      "execution_count": 23,
      "outputs": [
        {
          "output_type": "execute_result",
          "data": {
            "text/plain": [
              "'김사과'"
            ],
            "application/vnd.google.colaboratory.intrinsic+json": {
              "type": "string"
            }
          },
          "metadata": {},
          "execution_count": 23
        }
      ]
    },
    {
      "cell_type": "markdown",
      "source": [
        "# **4. 해시 테이블의 장단점**\n",
        "* 장점\n",
        "  * 검색 속도가 빠름\n",
        "  * 해시는 키에 대한 데이터가 있는지 확인이 쉬움(키에 대한 중복이 있는지 확인이 쉬움)\n",
        "* 단점\n",
        "  * 일반적으로 저장공간이 많이 필요함\n",
        "  * 여러 키에 해당하는 주소가 동일할 경우 충돌을 해결하기 위한 별도의 자료구조가 필요함\n"
      ],
      "metadata": {
        "id": "56Mq8rDn9Jup"
      }
    },
    {
      "cell_type": "markdown",
      "source": [
        "# **5. 충돌 해결 알고리즘**"
      ],
      "metadata": {
        "id": "Znz2BwH49Jru"
      }
    },
    {
      "cell_type": "markdown",
      "source": [
        "### 5-1 선형 탐색 기법(Linear Probling)\n",
        "* 해시 충돌이 발생했을 경우, 충돌이 발생한 자리에 데이터를 저장하지 못하므로 바로 옆의 빈 자리를 찾는 방법\n",
        "* 배열에서 빈 자리를 선형적으로 탐색하면서 데이터를 삽입\n",
        "* 방법\n",
        "  * 데이터를 Hash_func로 인덱스를 계산해서 삽입\n",
        "  * 만약 해당 자리에 이미 다른 데이터가 있다면, 그 다음(혹은 몇번째 이후) 자리를 이동하면서 빈자리를 찾음\n",
        "  * 빈 자리를 찾으면 그 자리에 데이터를 저장\n",
        "* 장점\n",
        "  * 구현이 간단함\n",
        "  * 메모리 공간을 효율적으로 사용함\n",
        "* 단점\n",
        "  * 클러스터링 현상이 발생할 수 있음\n",
        "  * 충돌이 계속 발생하면 Hash Table의 특정 영역에 데이터가 몰리면서 탐색 속도가 느려질 수 있음\n"
      ],
      "metadata": {
        "id": "rdLIzO5Z9Joy"
      }
    },
    {
      "cell_type": "code",
      "source": [
        "hash_table = list([0 for i in range(8)])"
      ],
      "metadata": {
        "id": "Mz0uYDLN9Jl2"
      },
      "execution_count": 33,
      "outputs": []
    },
    {
      "cell_type": "code",
      "source": [
        "# hash() : 객체의 고유한 해시 값을 정수로 반환하는 함수\n",
        "# 동일한 객체는 동일한 해시 값을 가짐\n",
        "def get_key(key) :\n",
        "  print(hash(key))\n",
        "  return hash(key)\n",
        "\n",
        "def hash_function(key) :\n",
        "  return key % 8\n",
        "\n",
        "def save_data(key, value) :\n",
        "  hash_address = hash_function(get_key(key))\n",
        "  hash_table[hash_address] = value\n"
      ],
      "metadata": {
        "id": "si82gut19Ji7"
      },
      "execution_count": 27,
      "outputs": []
    },
    {
      "cell_type": "code",
      "source": [
        "save_data('melon', '이메론')"
      ],
      "metadata": {
        "colab": {
          "base_uri": "https://localhost:8080/"
        },
        "id": "oKvYa0zd9JgA",
        "outputId": "3ef25e46-7c6c-4a31-c5a6-648acc581bae"
      },
      "execution_count": 28,
      "outputs": [
        {
          "output_type": "stream",
          "name": "stdout",
          "text": [
            "-176336793503803756\n"
          ]
        }
      ]
    },
    {
      "cell_type": "code",
      "source": [
        "def get_key(key) :\n",
        "  return hash(key)\n",
        "\n",
        "def hash_function(key) :\n",
        "  return key % 8        # 음수 연산과 양수 연산은 부호비트 때문에 결과가 같음 (절대값이 같아도 결과가 다름)\n",
        "\n",
        "def save_data(key, value) :\n",
        "  index_key = get_key(key)\n",
        "  hash_address = hash_function(index_key)\n",
        "\n",
        "  if hash_table[hash_address] != 0 :\n",
        "    for index in range(hash_address, len(hash_table)) :\n",
        "      if hash_table[index] == 0 :\n",
        "        hash_table[index] = [index_key, value]\n",
        "        return\n",
        "      elif hash_table[index][0] == index_key :\n",
        "        hash_table[index][1] = value\n",
        "        return\n",
        "  else :\n",
        "    hash_table[hash_address] = [index_key, value]\n",
        "\n",
        "def read_data(key) :\n",
        "  index_key = get_key(key)\n",
        "  hash_address = hash_function(index_key)\n",
        "  if hash_table[hash_address] != 0 :\n",
        "    for index in range(hash_address, len(hash_table)) :\n",
        "      if hash_table[index] == 0 :\n",
        "        return None\n",
        "      elif hash_table[index][0] == index_key :\n",
        "        return hash_table[index][1]\n",
        "  else :\n",
        "    return None"
      ],
      "metadata": {
        "id": "QsP8z12u9Jdp"
      },
      "execution_count": 34,
      "outputs": []
    },
    {
      "cell_type": "code",
      "source": [
        "save_data('apple', '김사과')\n",
        "save_data('melon', '이메론')\n",
        "save_data('banana', '반하나')"
      ],
      "metadata": {
        "id": "laTeBfbF9JRX"
      },
      "execution_count": 35,
      "outputs": []
    },
    {
      "cell_type": "code",
      "source": [
        "print(hash_function(hash('apple')))\n",
        "print(hash_function(hash('melon')))\n",
        "print(hash_function(hash('banana')))\n",
        "print(hash_function(hash('orange')))"
      ],
      "metadata": {
        "colab": {
          "base_uri": "https://localhost:8080/"
        },
        "id": "_cOy7jGJOJi5",
        "outputId": "ea13980e-1190-4bec-e4f2-4ce67743fe1e"
      },
      "execution_count": 43,
      "outputs": [
        {
          "output_type": "stream",
          "name": "stdout",
          "text": [
            "5\n",
            "4\n",
            "3\n",
            "3\n"
          ]
        }
      ]
    },
    {
      "cell_type": "code",
      "source": [
        "hash_table"
      ],
      "metadata": {
        "colab": {
          "base_uri": "https://localhost:8080/"
        },
        "id": "UwVpMYwNNhxf",
        "outputId": "2fa6de08-2346-4c96-a589-d068ae3198f1"
      },
      "execution_count": 36,
      "outputs": [
        {
          "output_type": "execute_result",
          "data": {
            "text/plain": [
              "[0,\n",
              " 0,\n",
              " 0,\n",
              " [6142519770501993867, '반하나'],\n",
              " [-176336793503803756, '이메론'],\n",
              " [-7262300976879533667, '김사과'],\n",
              " 0,\n",
              " 0]"
            ]
          },
          "metadata": {},
          "execution_count": 36
        }
      ]
    },
    {
      "cell_type": "code",
      "source": [
        "save_data('orange', '오렌지')"
      ],
      "metadata": {
        "id": "TKwTKVIRN6tR"
      },
      "execution_count": 38,
      "outputs": []
    },
    {
      "cell_type": "code",
      "source": [
        "hash_table"
      ],
      "metadata": {
        "colab": {
          "base_uri": "https://localhost:8080/"
        },
        "id": "JpmtqyB5N-xL",
        "outputId": "67a502ce-3865-4bce-9630-7825014d5b12"
      },
      "execution_count": 39,
      "outputs": [
        {
          "output_type": "execute_result",
          "data": {
            "text/plain": [
              "[0,\n",
              " 0,\n",
              " 0,\n",
              " [6142519770501993867, '반하나'],\n",
              " [-176336793503803756, '이메론'],\n",
              " [-7262300976879533667, '김사과'],\n",
              " [-8073281405380686005, '오렌지'],\n",
              " 0]"
            ]
          },
          "metadata": {},
          "execution_count": 39
        }
      ]
    },
    {
      "cell_type": "code",
      "source": [
        "read_data('orange')"
      ],
      "metadata": {
        "colab": {
          "base_uri": "https://localhost:8080/",
          "height": 35
        },
        "id": "TNmlyt80OA7m",
        "outputId": "0f818647-dcde-4257-a892-9cbab1533721"
      },
      "execution_count": 40,
      "outputs": [
        {
          "output_type": "execute_result",
          "data": {
            "text/plain": [
              "'오렌지'"
            ],
            "application/vnd.google.colaboratory.intrinsic+json": {
              "type": "string"
            }
          },
          "metadata": {},
          "execution_count": 40
        }
      ]
    },
    {
      "cell_type": "markdown",
      "source": [
        "### 5-2. 체이닝 기법(Chaining)\n",
        "* 해시 충돌이 발생했을 경우, 배열의 각 인덱스에서 데이터를 단순히 저장하는 대신, 연결 리스트나 다른 데이터 구조를 사용해 여러 개의 데이터를 저장하는 방법\n",
        "* 방법\n",
        "  * 데이터를 해시함수로 인덱스를 계산해서 삽입\n",
        "  * 만약 해당 자리에 이미 다른 데이터가 있다면, 그 자리에 새로운 데이터를 추가하는 대신 해당 자리를 하나의 '체인(주로 연결 리스트)'으로 만들어서 여러 데이터를 이어붙힘\n",
        "* 장점\n",
        "  * 충돌이 발생해도 테이블에 데이터를 추가하는 데 문제가 없음\n",
        "  * 클러스터일 문제가 없음\n",
        "  * 해시테이블의 크기가 꽉차더라도 리스트 확장으로 데이터를 계속 추가할 수 있음\n",
        "* 단점\n",
        "  * 메모리 사용이 비효율적일 수 있음\n",
        "  * 연결 리스트를 유지하기 위한 추가 메모리가 필요함\n",
        "  * 최악의 경우 모든 데이터가 하나의 연결 리스트에 몰리면 탐색 시간이 매우 느려질 수 있음\n",
        "\n"
      ],
      "metadata": {
        "id": "KPL7jAS_OGyd"
      }
    },
    {
      "cell_type": "code",
      "source": [
        "hash_table = [0for _ in range(8)]"
      ],
      "metadata": {
        "id": "BISBCtrhVSEY"
      },
      "execution_count": 23,
      "outputs": []
    },
    {
      "cell_type": "code",
      "source": [
        "hash_table"
      ],
      "metadata": {
        "colab": {
          "base_uri": "https://localhost:8080/"
        },
        "id": "v5ot8yKgXscj",
        "outputId": "fef42d9b-5dbb-4724-9d82-8b64922afd4a"
      },
      "execution_count": 24,
      "outputs": [
        {
          "output_type": "execute_result",
          "data": {
            "text/plain": [
              "[0, 0, 0, 0, 0, 0, 0, 0]"
            ]
          },
          "metadata": {},
          "execution_count": 24
        }
      ]
    },
    {
      "cell_type": "code",
      "source": [
        "def get_key(key) :\n",
        "  return hash(key)\n",
        "\n",
        "def hash_function(key) :\n",
        "  return key % 8\n",
        "\n",
        "def save_data(key, value) :\n",
        "  index_key = get_key(key)\n",
        "  hash_address = hash_function(index_key)\n",
        "  if hash_table[hash_address] != 0 :\n",
        "      hash_table[hash_address].append([index_key, value])\n",
        "      return\n",
        "  else :\n",
        "    hash_table[hash_address] = [[index_key,value]]\n",
        "\n",
        "def read_data(key) :\n",
        "  index_key = get_key(key)\n",
        "  hash_address = hash_function(index_key)\n",
        "  if hash_table[hash_address] != 0 :\n",
        "    for index in range(hash_address, len(hash_table)) :\n",
        "      for i in range(len(hash_table[index])) :\n",
        "        if hash_table[index][i][0] == index_key :\n",
        "          return hash_table[index][i][1]\n",
        "  else :\n",
        "    return None"
      ],
      "metadata": {
        "id": "_JvQbWZaOjUI"
      },
      "execution_count": 8,
      "outputs": []
    },
    {
      "cell_type": "code",
      "source": [
        "# 강사님 코드\n",
        "def get_key(key):\n",
        "    return hash(key)\n",
        "\n",
        "def hash_function(key):\n",
        "    return key % 8\n",
        "\n",
        "def save_data(key, value):\n",
        "    index_key = get_key(key)\n",
        "    hash_address = hash_function(index_key)\n",
        "    if hash_table[hash_address] != 0:\n",
        "        for index in range(len(hash_table[hash_address])):\n",
        "            if hash_table[hash_address][index][0] == index_key:\n",
        "                hash_table[hash_address][index][1] = value\n",
        "                return\n",
        "        hash_table[hash_address].append([index_key, value])\n",
        "    else:\n",
        "        hash_table[hash_address] = [[index_key, value]]\n",
        "\n",
        "def read_data(key):\n",
        "    index_key = get_key(key)\n",
        "    hash_address = hash_function(index_key)\n",
        "    if hash_table[hash_address] != 0:\n",
        "        for index in range(len(hash_table[hash_address])):\n",
        "            if hash_table[hash_address][index][0] == index_key:\n",
        "                return hash_table[hash_address][index][1]\n",
        "    else:\n",
        "        return None"
      ],
      "metadata": {
        "id": "CyfkE1WPvp2X"
      },
      "execution_count": 25,
      "outputs": []
    },
    {
      "cell_type": "code",
      "source": [
        "print(hash_function(hash('apple')))\n",
        "print(hash_function(hash('melon')))\n",
        "print(hash_function(hash('banana')))\n",
        "print(hash_function(hash('orange')))\n",
        "print(hash_function(hash('grape')))\n",
        "print(hash_function(hash('mango')))\n",
        "print(hash_function(hash('Dfruit')))\n",
        "print(hash_function(hash('avocado')))"
      ],
      "metadata": {
        "colab": {
          "base_uri": "https://localhost:8080/"
        },
        "id": "EZHcSVorx7Ig",
        "outputId": "0e9af3b6-4636-4059-f8b7-ec8dcd4054b4"
      },
      "execution_count": 22,
      "outputs": [
        {
          "output_type": "stream",
          "name": "stdout",
          "text": [
            "2\n",
            "7\n",
            "6\n",
            "1\n",
            "0\n",
            "3\n",
            "0\n",
            "7\n"
          ]
        }
      ]
    },
    {
      "cell_type": "code",
      "source": [
        "save_data('apple', '김사과')\n",
        "save_data('melon', '이메론')\n",
        "save_data('banana', '반하나')\n",
        "save_data('avocado', '안가도')"
      ],
      "metadata": {
        "id": "jBwUiwpYW1UB"
      },
      "execution_count": 26,
      "outputs": []
    },
    {
      "cell_type": "code",
      "source": [
        "hash_table"
      ],
      "metadata": {
        "colab": {
          "base_uri": "https://localhost:8080/"
        },
        "id": "cxIrfUE8W3Q7",
        "outputId": "9d7fb2f6-8e06-419f-a0a7-5a8820c30812"
      },
      "execution_count": 27,
      "outputs": [
        {
          "output_type": "execute_result",
          "data": {
            "text/plain": [
              "[0,\n",
              " 0,\n",
              " [[-3562234429322664310, '김사과']],\n",
              " 0,\n",
              " 0,\n",
              " 0,\n",
              " [[6819651005563347302, '반하나']],\n",
              " [[-81252215527351209, '이메론'], [-8107269197746942561, '안가도']]]"
            ]
          },
          "metadata": {},
          "execution_count": 27
        }
      ]
    },
    {
      "cell_type": "code",
      "source": [
        "save_data('orange', '오렌지')"
      ],
      "metadata": {
        "id": "VJ16MmuTW9m8"
      },
      "execution_count": 29,
      "outputs": []
    },
    {
      "cell_type": "code",
      "source": [
        "hash_table"
      ],
      "metadata": {
        "colab": {
          "base_uri": "https://localhost:8080/"
        },
        "id": "AAZ-U391XBDl",
        "outputId": "cfb225d2-2944-4d08-ceab-6cf8801a309f"
      },
      "execution_count": 30,
      "outputs": [
        {
          "output_type": "execute_result",
          "data": {
            "text/plain": [
              "[0,\n",
              " [[-7530424118731376111, '오렌지']],\n",
              " [[-3562234429322664310, '김사과']],\n",
              " 0,\n",
              " 0,\n",
              " 0,\n",
              " [[6819651005563347302, '반하나']],\n",
              " [[-81252215527351209, '이메론'], [-8107269197746942561, '안가도']]]"
            ]
          },
          "metadata": {},
          "execution_count": 30
        }
      ]
    },
    {
      "cell_type": "code",
      "source": [
        "hash_table[hash_function(get_key('banana'))]"
      ],
      "metadata": {
        "colab": {
          "base_uri": "https://localhost:8080/"
        },
        "id": "4W6pJgiuZZx3",
        "outputId": "a09cb377-572e-4061-ee9a-ad93fca62f3c"
      },
      "execution_count": 167,
      "outputs": [
        {
          "output_type": "execute_result",
          "data": {
            "text/plain": [
              "[[6142519770501993867, '반하나'], [-8073281405380686005, '오렌지']]"
            ]
          },
          "metadata": {},
          "execution_count": 167
        }
      ]
    },
    {
      "cell_type": "code",
      "source": [
        "read_data('banana')"
      ],
      "metadata": {
        "colab": {
          "base_uri": "https://localhost:8080/",
          "height": 35
        },
        "id": "WLc_H0u6aRe5",
        "outputId": "cb2d43ac-2e00-4723-d00d-308aa7a1e9ca"
      },
      "execution_count": 168,
      "outputs": [
        {
          "output_type": "execute_result",
          "data": {
            "text/plain": [
              "'반하나'"
            ],
            "application/vnd.google.colaboratory.intrinsic+json": {
              "type": "string"
            }
          },
          "metadata": {},
          "execution_count": 168
        }
      ]
    },
    {
      "cell_type": "code",
      "source": [
        "read_data('orange')"
      ],
      "metadata": {
        "colab": {
          "base_uri": "https://localhost:8080/",
          "height": 35
        },
        "id": "UwrRw-s2agW4",
        "outputId": "157c95ef-c133-42f6-b938-00732ba30e87"
      },
      "execution_count": 169,
      "outputs": [
        {
          "output_type": "execute_result",
          "data": {
            "text/plain": [
              "'오렌지'"
            ],
            "application/vnd.google.colaboratory.intrinsic+json": {
              "type": "string"
            }
          },
          "metadata": {},
          "execution_count": 169
        }
      ]
    },
    {
      "cell_type": "code",
      "source": [
        "read_data('melon')"
      ],
      "metadata": {
        "colab": {
          "base_uri": "https://localhost:8080/",
          "height": 35
        },
        "id": "_oys26zIaiC-",
        "outputId": "da8c6609-e509-44f1-bbf6-1666c87408d9"
      },
      "execution_count": 170,
      "outputs": [
        {
          "output_type": "execute_result",
          "data": {
            "text/plain": [
              "'이메론'"
            ],
            "application/vnd.google.colaboratory.intrinsic+json": {
              "type": "string"
            }
          },
          "metadata": {},
          "execution_count": 170
        }
      ]
    },
    {
      "cell_type": "markdown",
      "source": [
        "# **6. 해시 함수와 키 생성 함수**\n",
        "* hash 함수는 실행할 때마다 값이 달라질 수 있음\n",
        "* SHA(Secure Hash Algorithm, 안전한 해시 알고리즘)와 같은 유명한 해시 알고리즘이 있음\n",
        "* 어떤 데이터도 유일한 고정된 크기의 고정값을 반환해주므로 해시 함수로 유용하게 활용가능"
      ],
      "metadata": {
        "id": "D6mncdOzaj4e"
      }
    },
    {
      "cell_type": "markdown",
      "source": [
        "### 6-1. SHA-1"
      ],
      "metadata": {
        "id": "JTdkUOYozXZr"
      }
    },
    {
      "cell_type": "code",
      "source": [
        "import hashlib\n",
        "import sys"
      ],
      "metadata": {
        "id": "gQ_LhZH4zhuj"
      },
      "execution_count": 31,
      "outputs": []
    },
    {
      "cell_type": "code",
      "source": [
        "data = 'test'.encode()"
      ],
      "metadata": {
        "id": "CPEoFvRuzlIB"
      },
      "execution_count": 32,
      "outputs": []
    },
    {
      "cell_type": "code",
      "source": [
        "print(data)"
      ],
      "metadata": {
        "colab": {
          "base_uri": "https://localhost:8080/"
        },
        "id": "W7leYEcczlha",
        "outputId": "0dfe8b6f-f2c2-4237-ec60-da84c157fb17"
      },
      "execution_count": 33,
      "outputs": [
        {
          "output_type": "stream",
          "name": "stdout",
          "text": [
            "b'test'\n"
          ]
        }
      ]
    },
    {
      "cell_type": "code",
      "source": [
        "hash_obj = hashlib.sha1()\n",
        "print(hash_obj)"
      ],
      "metadata": {
        "colab": {
          "base_uri": "https://localhost:8080/"
        },
        "id": "sXD1OIQPzlkV",
        "outputId": "4a1d3676-93dd-4257-f2c0-17bd92ed6bd4"
      },
      "execution_count": 35,
      "outputs": [
        {
          "output_type": "stream",
          "name": "stdout",
          "text": [
            "<sha1 _hashlib.HASH object @ 0x7b8ae331b650>\n"
          ]
        }
      ]
    },
    {
      "cell_type": "code",
      "source": [
        "hash_obj.update(data)\n",
        "hex_dig = hash_obj.hexdigest() # 16진수로 고정된 해시값을 반환\n",
        "print(hex_dig)\n",
        "print(int(hex_dig, 16)) # 10진수로 고정된 해시값"
      ],
      "metadata": {
        "colab": {
          "base_uri": "https://localhost:8080/"
        },
        "id": "hO04-G2jzlmr",
        "outputId": "d9e139f9-0c6a-41c0-ef92-af02e3990e34"
      },
      "execution_count": 37,
      "outputs": [
        {
          "output_type": "stream",
          "name": "stdout",
          "text": [
            "51abb9636078defbf888d8457a7c76f85c8f114c\n",
            "466257829454764924715119392747098255628463706444\n"
          ]
        }
      ]
    },
    {
      "cell_type": "markdown",
      "source": [
        "### 6-2. SHA-256\n",
        "* SHA 알고리즘의 한 종류로 256비트로 구성되어 64자리 문자열을 반환\n",
        "* SHA-2 계열 중 하나이며 블록체인에서 가장 많이 채택하여 사용"
      ],
      "metadata": {
        "id": "9FciFZIrzlpo"
      }
    },
    {
      "cell_type": "code",
      "source": [
        "import hashlib\n",
        "import sys\n",
        "\n",
        "data = 'test'.encode()\n",
        "print(data)\n",
        "hash_obj = hashlib.sha256()\n",
        "print(hash_obj)\n",
        "hash_obj.update(data)\n",
        "hex_dig = hash_obj.hexdigest() # 16진수로 고정된 해시값을 반환\n",
        "print(hex_dig)\n",
        "int(hex_dig, 16) # 10진수로 고정된 해시값"
      ],
      "metadata": {
        "colab": {
          "base_uri": "https://localhost:8080/"
        },
        "id": "IjUinhEWzmSq",
        "outputId": "8fb2be17-e3ea-4300-85fa-9700a8f7f1d8"
      },
      "execution_count": 39,
      "outputs": [
        {
          "output_type": "stream",
          "name": "stdout",
          "text": [
            "b'test'\n",
            "<sha256 _hashlib.HASH object @ 0x7b8ae331b850>\n",
            "9f86d081884c7d659a2feaa0c55ad015a3bf4f1b2b0b822cd15d6c15b0f00a08\n"
          ]
        },
        {
          "output_type": "execute_result",
          "data": {
            "text/plain": [
              "72155939486846849509759369733266486982821795810448245423168957390607644363272"
            ]
          },
          "metadata": {},
          "execution_count": 39
        }
      ]
    },
    {
      "cell_type": "markdown",
      "source": [
        "### 문제2\n",
        "체이닝 기법(Chaining) 적용한 해시 테이블 코드에 키 생성 함수로 sha256 해시 알고리즘을 사용하여 변경해보자\n",
        "1. 해시함수 : key % 8\n",
        "2. 총 8개의 슬롯\n",
        "3. 해시키 생성 : sha256"
      ],
      "metadata": {
        "id": "asZWrQZrzmPJ"
      }
    },
    {
      "cell_type": "code",
      "source": [
        "hash_table = [0 for _ in range(8)]"
      ],
      "metadata": {
        "id": "EXdzPWU83yC4"
      },
      "execution_count": 83,
      "outputs": []
    },
    {
      "cell_type": "code",
      "source": [
        "import hashlib\n",
        "\n",
        "def get_key(key):\n",
        "  data = key.encode()\n",
        "  hash_obj = hashlib.sha256()\n",
        "  hash_obj.update(data)\n",
        "  hex_dig = hash_obj.hexdigest()\n",
        "  return int(hex_dig, 16)\n",
        "  # hash_obj = hashlib.sha256()\n",
        "  # hash_obj.update(key.encode())\n",
        "  # return int(hash_obj.hexdigest(), 16)\n",
        "\n",
        "\n",
        "def hash_function(key):\n",
        "    return key % 8\n",
        "\n",
        "def save_data(key, value):\n",
        "    index_key = get_key(key)\n",
        "    hash_address = hash_function(index_key)\n",
        "    if hash_table[hash_address] != 0:\n",
        "        for index in range(len(hash_table[hash_address])):\n",
        "            if hash_table[hash_address][index][0] == index_key:\n",
        "                hash_table[hash_address][index][1] = value\n",
        "                return\n",
        "        hash_table[hash_address].append([index_key, value])\n",
        "    else:\n",
        "        hash_table[hash_address] = [[index_key, value]]\n",
        "\n",
        "def read_data(key):\n",
        "    index_key = get_key(key)\n",
        "    hash_address = hash_function(index_key)\n",
        "    if hash_table[hash_address] != 0:\n",
        "        for index in range(len(hash_table[hash_address])):\n",
        "            if hash_table[hash_address][index][0] == index_key:\n",
        "                return hash_table[hash_address][index][1]\n",
        "    else:\n",
        "        return None"
      ],
      "metadata": {
        "id": "YvGLJRlgzmMM"
      },
      "execution_count": 84,
      "outputs": []
    },
    {
      "cell_type": "code",
      "source": [
        "print(get_key('apple')% 8)\n",
        "print(get_key('melon')% 8)\n",
        "print(get_key('banana')% 8)\n",
        "print(get_key('orange')% 8)\n",
        "print(get_key('grape')% 8)\n",
        "print(get_key('mango')% 8)\n",
        "print(get_key('Dfruit')% 8)\n",
        "print(get_key('avocado')% 8)"
      ],
      "metadata": {
        "colab": {
          "base_uri": "https://localhost:8080/"
        },
        "id": "BHarAogozmIG",
        "outputId": "9bb4e119-2d5c-4d9e-a034-895b3796a5ae"
      },
      "execution_count": 80,
      "outputs": [
        {
          "output_type": "stream",
          "name": "stdout",
          "text": [
            "3\n",
            "7\n",
            "6\n",
            "4\n",
            "6\n",
            "4\n",
            "3\n",
            "0\n"
          ]
        }
      ]
    },
    {
      "cell_type": "code",
      "source": [
        "save_data('apple', '김사과')\n",
        "save_data('melon', '이메론')\n",
        "save_data('banana', '반하나')\n",
        "save_data('avocado', '안가도')\n",
        "save_data('orange', '오렌지')\n",
        "save_data('mango', '박망고')"
      ],
      "metadata": {
        "id": "aqLtHhg3zmC0"
      },
      "execution_count": 85,
      "outputs": []
    },
    {
      "cell_type": "code",
      "source": [
        "hash_table"
      ],
      "metadata": {
        "colab": {
          "base_uri": "https://localhost:8080/"
        },
        "id": "D7DgUPSlzl9i",
        "outputId": "8a9a9223-7c2e-4473-ca91-d0f6db871a1c"
      },
      "execution_count": 86,
      "outputs": [
        {
          "output_type": "execute_result",
          "data": {
            "text/plain": [
              "[[[112982323934352589425180049383729697652692462823327605015335539780563025432096,\n",
              "   '안가도']],\n",
              " 0,\n",
              " 0,\n",
              " [[26452929773915387181124022930352263286101059613432915788569047929437325971227,\n",
              "   '김사과']],\n",
              " [[12347729439854570657921908745856170563904168537595263672036856469419797331348,\n",
              "   '오렌지'],\n",
              "  [47079322422595043057025504805937541588366792656978037450293233633534836720788,\n",
              "   '박망고']],\n",
              " 0,\n",
              " [[81677505976092492256788526045794788656350341275302681754807117191827310239310,\n",
              "   '반하나']],\n",
              " [[75635856040252375081268883667212387409410230564410600651936135151777611054631,\n",
              "   '이메론']]]"
            ]
          },
          "metadata": {},
          "execution_count": 86
        }
      ]
    },
    {
      "cell_type": "code",
      "source": [],
      "metadata": {
        "id": "jS32ghjlzl6B"
      },
      "execution_count": null,
      "outputs": []
    },
    {
      "cell_type": "code",
      "source": [],
      "metadata": {
        "id": "BnmuIKY0zl2g"
      },
      "execution_count": null,
      "outputs": []
    },
    {
      "cell_type": "code",
      "source": [],
      "metadata": {
        "id": "pd7FcRBmzlx0"
      },
      "execution_count": null,
      "outputs": []
    },
    {
      "cell_type": "code",
      "source": [],
      "metadata": {
        "id": "dDT9P4S6zls2"
      },
      "execution_count": null,
      "outputs": []
    }
  ]
}