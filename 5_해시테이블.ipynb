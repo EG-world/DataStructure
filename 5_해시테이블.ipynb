{
  "nbformat": 4,
  "nbformat_minor": 0,
  "metadata": {
    "colab": {
      "provenance": [],
      "authorship_tag": "ABX9TyPHr7vpK0ufKWufD1GaWbT5",
      "include_colab_link": true
    },
    "kernelspec": {
      "name": "python3",
      "display_name": "Python 3"
    },
    "language_info": {
      "name": "python"
    }
  },
  "cells": [
    {
      "cell_type": "markdown",
      "metadata": {
        "id": "view-in-github",
        "colab_type": "text"
      },
      "source": [
        "<a href=\"https://colab.research.google.com/github/EG-world/DataStructure/blob/main/5_%ED%95%B4%EC%8B%9C%ED%85%8C%EC%9D%B4%EB%B8%94.ipynb\" target=\"_parent\"><img src=\"https://colab.research.google.com/assets/colab-badge.svg\" alt=\"Open In Colab\"/></a>"
      ]
    },
    {
      "cell_type": "markdown",
      "source": [
        "# **1. 해시 테이블(Hash Table)**\n",
        "* 키(key)에 데이터(value)를 저장하는 데이터 구조\n",
        "* 파이썬에서는 해시를 별도 구현할 필요가 없음\n",
        "* 파이썬 딕셔너리(Dictionary) 타입이 해시 테이블의 예\n",
        "* key를 통해 데이터를 바로 찾을 수 있으므로 검색 속도가 빨라짐\n",
        "* 보통 배열로 미리 hash table 사이즈 만큼 생성 후에 사용"
      ],
      "metadata": {
        "id": "AA9gkzFz6Mt_"
      }
    },
    {
      "cell_type": "markdown",
      "source": [
        "# **2. 알아둘 용어**\n",
        "* 해시(Hash) : 임의 값을 고정길이로 변환하는 것\n",
        "* 해시 테이블(Hash Table) : key값의 연산에 의해서 직접 접근이 가능한 데이터 구조\n",
        "* 해시 함수(Hashing Function) : key에 대해 산술 연산을 이용해 데이터 위치를 찾을 수 있는 함수\n",
        "* 해시 값(Hash Value) 또는 해시 주소(Hash Address) : key를 해싱 함수로 연산해서 해시 값을 알아내고 이를 기반으로 해시 테이블에 해당 key에 대한 데이터 위치를 일관성 있게 찾을 수 있음\n",
        "* 슬롯(Slot) : 한개의 데이터를 저장 할 수 있는 공간"
      ],
      "metadata": {
        "id": "Kynn68v-6yvq"
      }
    },
    {
      "cell_type": "code",
      "source": [],
      "metadata": {
        "id": "pTOLnTGJ7vTm"
      },
      "execution_count": null,
      "outputs": []
    }
  ]
}