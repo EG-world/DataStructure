{
  "nbformat": 4,
  "nbformat_minor": 0,
  "metadata": {
    "colab": {
      "provenance": [],
      "authorship_tag": "ABX9TyPAeh5E8C9mSEqd1LZG1qri",
      "include_colab_link": true
    },
    "kernelspec": {
      "name": "python3",
      "display_name": "Python 3"
    },
    "language_info": {
      "name": "python"
    }
  },
  "cells": [
    {
      "cell_type": "markdown",
      "metadata": {
        "id": "view-in-github",
        "colab_type": "text"
      },
      "source": [
        "<a href=\"https://colab.research.google.com/github/EG-world/DataStructure/blob/main/6_%ED%8A%B8%EB%A6%AC.ipynb\" target=\"_parent\"><img src=\"https://colab.research.google.com/assets/colab-badge.svg\" alt=\"Open In Colab\"/></a>"
      ]
    },
    {
      "cell_type": "markdown",
      "source": [
        "# **1. 트리**\n",
        "* Node와 Branch를 이용해서 사이클을 이루지 않도록 구성한 데이터 구조\n",
        "* 트리 중 이진 트리(Binary Tree)형태의 구조로 탐색(검색) 알고리즘 구현을 위해 알고리즘 구현을 위해 많이 사용됨"
      ],
      "metadata": {
        "id": "33hgzoB0B2sL"
      }
    },
    {
      "cell_type": "markdown",
      "source": [
        "# **2. 알아둘 용어**\n",
        "* Node : 트리에서 데이터를 저장하는 기본 요소(데이터와 다른 연결된 노드에 대한 Branch 정보를 포함)\n",
        "* Root Node : 트리 최상위 노드\n",
        "* Level : 최상위 노드를 레벨 0으로 했을 때 하위 Branch로 연결된 노드의 깊이를 나타냄\n",
        "* Parent Node : 어떤 노드의 상위 레벨에 연결된 노드 (바로 위)\n",
        "* Child Node : 어떤 노드의 하위 레벨에 연결된 노드 (바로 아래)\n",
        "* Leaf Node : Child Node가 하나도 없는 노드\n",
        "* Sibling Node : 동일 Parent Node를 가진 노드\n",
        "\n"
      ],
      "metadata": {
        "id": "LkuUbHojCb6Q"
      }
    },
    {
      "cell_type": "markdown",
      "source": [
        "# **3. 이진 트리와 이진 탐색 트리**\n",
        "* 이진 트리 : 노드의 최대 Branch가 2개인 트리\n",
        "* 이진 탐색 트리 : 이진트리에 아래와 같은 조건이 추가된 트리\n",
        "  * 조건 : 왼쪽 노드는 해당 노드보다 작은 값, 오른쪽 노드는 해당 노드보다 큰 값을 가진다.\n",
        "\n",
        "\n",
        "<center><img src=\"https://www.mathwarehouse.com/programming/images/binary-search-tree/binary-search-tree-insertion-animation.gif\"></center>"
      ],
      "metadata": {
        "id": "XAfYjJirELOS"
      }
    },
    {
      "cell_type": "markdown",
      "source": [
        "# **4. 자료구조 이진 탐색 트리의 장점과 주요 용도**\n",
        "* 주요 용도 : 데이터 검색(탐색)\n",
        "* 장점\n",
        "  * 탐색 속도 개선 할 수 있음\n",
        "\n",
        "\n",
        "<center><img src=\"https://www.mathwarehouse.com/programming/images/binary-search-tree/binary-search-tree-sorted-array-animation.gif\"></center>"
      ],
      "metadata": {
        "id": "G7uX-WkaEsbx"
      }
    },
    {
      "cell_type": "markdown",
      "source": [
        "# **5. 파이썬 객체지향 프로그래밍으로 이진 탐색 트리 구현**"
      ],
      "metadata": {
        "id": "C0TNfG6kFUil"
      }
    },
    {
      "cell_type": "code",
      "source": [
        "class Node :\n",
        "  def __init__(self, value) :\n",
        "    self.value = value\n",
        "    self.left = None\n",
        "    self.right = None"
      ],
      "metadata": {
        "id": "k-eMgmc1F8aj"
      },
      "execution_count": 13,
      "outputs": []
    },
    {
      "cell_type": "code",
      "source": [
        "# 이진 탐색 트리조건에 부합하게 데이터를 넣어야 함\n",
        "# 중복 데이터를 넣지 않음\n",
        "class NodeMgmt :\n",
        "  def __init__(self, head) :\n",
        "    self.head = Node(head)\n",
        "\n",
        "  def insert(self, value) :\n",
        "    if self.head is None:\n",
        "      self.head = Node(value)\n",
        "    else :\n",
        "      node = self.head\n",
        "      while node :\n",
        "        if node.value < value :\n",
        "          if node.right == None :\n",
        "            new = Node(value)\n",
        "            node.right = new\n",
        "            break\n",
        "          else :\n",
        "            node = node.right\n",
        "\n",
        "        elif node.value > value :\n",
        "          if node.left == None :\n",
        "            new = Node(value)\n",
        "            node.left = new\n",
        "            break\n",
        "          else :\n",
        "            node = node.left\n",
        "\n",
        "  def ischeck(self, value) :\n",
        "    if self.head == None:\n",
        "      return False\n",
        "    node = self.head\n",
        "    while node :\n",
        "      if node.value < value :\n",
        "        node = node.right\n",
        "      elif value < node.value :\n",
        "        node = node.left\n",
        "      else :\n",
        "        return node.value\n",
        "\n"
      ],
      "metadata": {
        "id": "CsZz1vN2GS83"
      },
      "execution_count": 2,
      "outputs": []
    },
    {
      "cell_type": "code",
      "source": [
        "tree = NodeMgmt(10)"
      ],
      "metadata": {
        "id": "IIJ6fpooPf6V"
      },
      "execution_count": 3,
      "outputs": []
    },
    {
      "cell_type": "code",
      "source": [
        "tree.insert(20)"
      ],
      "metadata": {
        "id": "iWGXF6wwZmra"
      },
      "execution_count": 4,
      "outputs": []
    },
    {
      "cell_type": "code",
      "source": [
        "tree.insert(30)"
      ],
      "metadata": {
        "id": "_PtFgQNbZn6d"
      },
      "execution_count": 5,
      "outputs": []
    },
    {
      "cell_type": "code",
      "source": [
        "tree.ischeck(20)"
      ],
      "metadata": {
        "colab": {
          "base_uri": "https://localhost:8080/"
        },
        "id": "WtvFLsqBZpwO",
        "outputId": "15a04ace-23fb-4681-a8e9-6f8d1bc820f9"
      },
      "execution_count": 6,
      "outputs": [
        {
          "output_type": "execute_result",
          "data": {
            "text/plain": [
              "20"
            ]
          },
          "metadata": {},
          "execution_count": 6
        }
      ]
    },
    {
      "cell_type": "code",
      "source": [
        "tree.insert(19)"
      ],
      "metadata": {
        "id": "99FfaAXvasX9"
      },
      "execution_count": 7,
      "outputs": []
    },
    {
      "cell_type": "code",
      "source": [
        "# 강사님 코드\n",
        "class NodeMgmt :\n",
        "  def __init__(self, head) :\n",
        "      self.head = head\n",
        "\n",
        "  def insert(self, value) :\n",
        "      self.current_node = self.head\n",
        "      while True:\n",
        "          if value < self.current_node.value:\n",
        "              if self.current_node.left != None:\n",
        "                  self.current_node = self.current_node.left\n",
        "              else:\n",
        "                  self.current_node.left = Node(value)\n",
        "                  break\n",
        "          else:\n",
        "              if self.current_node.right != None:\n",
        "                  self.current_node = self.current_node.right\n",
        "              else:\n",
        "                  self.current_node.right = Node(value)\n",
        "                  break\n",
        "\n",
        "  def search(self, value) :\n",
        "      self.current_node = self.head\n",
        "      while True:\n",
        "          if value < self.current_node.value :\n",
        "            if self.current_node.left != None :\n",
        "              self.current_node = self.current_node.left\n",
        "            else :\n",
        "              return False\n",
        "          elif value > self.current_node.value :\n",
        "              if self.current_node.right != None :\n",
        "                  self.current_node = self.current_node.right\n",
        "              else :\n",
        "                return False\n",
        "          else :\n",
        "            return True"
      ],
      "metadata": {
        "id": "JIAiDlaACumM"
      },
      "execution_count": 20,
      "outputs": []
    },
    {
      "cell_type": "code",
      "source": [
        "head = Node(10)\n",
        "BST = NodeMgmt(head)"
      ],
      "metadata": {
        "id": "8P5964FZEJlU"
      },
      "execution_count": 21,
      "outputs": []
    },
    {
      "cell_type": "code",
      "source": [
        "BST.insert(4)\n",
        "BST.insert(9)\n",
        "BST.insert(13)\n",
        "BST.insert(11)"
      ],
      "metadata": {
        "id": "aW8JBlP5E4KF"
      },
      "execution_count": 22,
      "outputs": []
    },
    {
      "cell_type": "markdown",
      "source": [
        "###문제1\n",
        "* 이진 탐색 트리의 탐색(Search) 메서드를 만들어보자\n",
        "* 단, 결과는 bool 타입으로 반환\n",
        "```\n",
        "def search(self, value) :\n",
        "  pass\n",
        "```"
      ],
      "metadata": {
        "id": "1qNyr_FQE_TW"
      }
    },
    {
      "cell_type": "code",
      "source": [
        "BST.search(5)"
      ],
      "metadata": {
        "colab": {
          "base_uri": "https://localhost:8080/"
        },
        "id": "dZv4DH8QFiJU",
        "outputId": "989f6839-de48-4ac9-ebba-6117d5516f45"
      },
      "execution_count": 27,
      "outputs": [
        {
          "output_type": "execute_result",
          "data": {
            "text/plain": [
              "False"
            ]
          },
          "metadata": {},
          "execution_count": 27
        }
      ]
    },
    {
      "cell_type": "code",
      "source": [
        "# 이진 탐색 트리 삭제\n",
        "# Leaf Node 삭제\n",
        "# 삭제할 Node의 Parent Node가 Node를 가리키지 않도록 함"
      ],
      "metadata": {
        "id": "3SBI7A9FGc2l"
      },
      "execution_count": null,
      "outputs": []
    },
    {
      "cell_type": "code",
      "source": [
        "class Node :\n",
        "  def __init__(self, value) :\n",
        "    self.value = value\n",
        "    self.left = None\n",
        "    self.right = None\n",
        "\n",
        "class NodeMgmt :\n",
        "  def __init__(self, head) :\n",
        "      self.head = head\n",
        "\n",
        "  def insert(self, value) :\n",
        "      self.current_node = self.head\n",
        "      while True:\n",
        "          if value < self.current_node.value:\n",
        "              if self.current_node.left != None:\n",
        "                  self.current_node = self.current_node.left\n",
        "              else:\n",
        "                  self.current_node.left = Node(value)\n",
        "                  break\n",
        "          else:\n",
        "              if self.current_node.right != None:\n",
        "                  self.current_node = self.current_node.right\n",
        "              else:\n",
        "                  self.current_node.right = Node(value)\n",
        "                  break\n",
        "\n",
        "  def search(self, value) :\n",
        "      self.current_node = self.head\n",
        "      while True:\n",
        "          if value < self.current_node.value :\n",
        "            if self.current_node.left != None :\n",
        "              self.current_node = self.current_node.left\n",
        "            else :\n",
        "              return False\n",
        "          elif value > self.current_node.value :\n",
        "              if self.current_node.right != None :\n",
        "                  self.current_node = self.current_node.right\n",
        "              else :\n",
        "                return False\n",
        "          else :\n",
        "            return True\n",
        "\n",
        "  def delete(self, value) :\n",
        "    searched = False\n",
        "    self.current_node = self.head\n",
        "    self.parent = self.head\n",
        "\n",
        "    while self.current_node :\n",
        "      if self.current_node.value == value :\n",
        "        searched = True\n",
        "        break\n",
        "      elif value < self.current_node.value :\n",
        "        self.parent = self.current_node\n",
        "        self.current_node = self.current_node.left\n",
        "      else :\n",
        "        self.parent = self.current_node\n",
        "        self.current_node = self.current_node.right\n",
        "    if searched == False :\n",
        "      return False\n",
        "\n",
        "    # Leaf Node의 경우\n",
        "    if self.current_node.left == None and self.current_node.right == None :\n",
        "      if value < self.parent.value :\n",
        "        self.parent.left = None\n",
        "      else :\n",
        "        self.parent.right = None\n",
        "    return True\n"
      ],
      "metadata": {
        "id": "xJBmL_AWRRqs"
      },
      "execution_count": 28,
      "outputs": []
    },
    {
      "cell_type": "code",
      "source": [
        "# Child Node가 하나인 Node를 삭제\n",
        "# 삭제할 Node의 Parent Node가 삭제할 Node의 Child Node를 가리키게 함\n",
        "class Node :\n",
        "  def __init__(self, value) :\n",
        "    self.value = value\n",
        "    self.left = None\n",
        "    self.right = None\n",
        "\n",
        "class NodeMgmt :\n",
        "  def __init__(self, head) :\n",
        "      self.head = head\n",
        "\n",
        "  def insert(self, value) :\n",
        "      self.current_node = self.head\n",
        "      while True:\n",
        "          if value < self.current_node.value:\n",
        "              if self.current_node.left != None:\n",
        "                  self.current_node = self.current_node.left\n",
        "              else:\n",
        "                  self.current_node.left = Node(value)\n",
        "                  break\n",
        "          else:\n",
        "              if self.current_node.right != None:\n",
        "                  self.current_node = self.current_node.right\n",
        "              else:\n",
        "                  self.current_node.right = Node(value)\n",
        "                  break\n",
        "\n",
        "  def search(self, value) :\n",
        "      self.current_node = self.head\n",
        "      while True:\n",
        "          if value < self.current_node.value :\n",
        "            if self.current_node.left != None :\n",
        "              self.current_node = self.current_node.left\n",
        "            else :\n",
        "              return False\n",
        "          elif value > self.current_node.value :\n",
        "              if self.current_node.right != None :\n",
        "                  self.current_node = self.current_node.right\n",
        "              else :\n",
        "                return False\n",
        "          else :\n",
        "            return True\n",
        "\n",
        "  def delete(self, value) :\n",
        "    searched = False\n",
        "    self.current_node = self.head\n",
        "    self.parent = self.head\n",
        "\n",
        "    while self.current_node :\n",
        "      if self.current_node.value == value :\n",
        "        searched = True\n",
        "        break\n",
        "      elif value < self.current_node.value :\n",
        "        self.parent = self.current_node\n",
        "        self.current_node = self.current_node.left\n",
        "      else :\n",
        "        self.parent = self.current_node\n",
        "        self.current_node = self.current_node.right\n",
        "    if searched == False :\n",
        "      return False\n",
        "\n",
        "    # Leaf Node의 경우\n",
        "    if self.current_node.left == None and self.current_node.right == None :\n",
        "      if value < self.parent.value :\n",
        "        self.parent.left = None\n",
        "      else :\n",
        "        self.parent.right = None\n",
        "    return True\n",
        "\n",
        "\n",
        "    if self.parent.value < value :\n",
        "      if self.current_node.left == None :\n",
        "        self.parent.right = self.current.right\n",
        "      if self.current_node.right == None :\n",
        "        self.parent.left = self.curent.left\n",
        "    else :\n",
        "      if self.current_node.left == None :\n",
        "        self.parent.right = self.current.right\n",
        "      if self.current_node.right == None :\n",
        "        self.parent.left = self.curent.left"
      ],
      "metadata": {
        "id": "tL-xHfoZTLwC"
      },
      "execution_count": null,
      "outputs": []
    }
  ]
}