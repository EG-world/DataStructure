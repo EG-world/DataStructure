{
  "nbformat": 4,
  "nbformat_minor": 0,
  "metadata": {
    "colab": {
      "provenance": [],
      "authorship_tag": "ABX9TyMX0HAodxUfAAsYCADo/Zyu",
      "include_colab_link": true
    },
    "kernelspec": {
      "name": "python3",
      "display_name": "Python 3"
    },
    "language_info": {
      "name": "python"
    }
  },
  "cells": [
    {
      "cell_type": "markdown",
      "metadata": {
        "id": "view-in-github",
        "colab_type": "text"
      },
      "source": [
        "<a href=\"https://colab.research.google.com/github/EG-world/DataStructure/blob/main/1_%EB%B0%B0%EC%97%B4.ipynb\" target=\"_parent\"><img src=\"https://colab.research.google.com/assets/colab-badge.svg\" alt=\"Open In Colab\"/></a>"
      ]
    },
    {
      "cell_type": "markdown",
      "source": [
        "# **1. 자료구조(Data Structure)**\n",
        "* 대량의 데이터를 효율적으로 관리할 수 있는 데이터의 구조를 의미\n",
        "* 코드상에서 효율적으로 데이터를 처리하기 위해 데이터의 특징에 따라 체게적으로 구조화해야 함\n",
        "\n",
        "> 대표적인 자료구조는 배열, 스택, 링크드리스트, 해쉬테이블, 힙 등..."
      ],
      "metadata": {
        "id": "ZEjlZGdAjEbU"
      }
    },
    {
      "cell_type": "markdown",
      "source": [
        "# **2. 알고리즘(Algorithm)**\n",
        "* 어떤 문제를 풀기 위한 절차 및 방법\n",
        "* 어떤 문제에 대해 특정한 \"입력\"을 넣으면 원하는 \"출력\"을 얻을 수 있도록 만드는 프로그램\n",
        "\n",
        "> 자료구조와 알고리즘이 중요한 이유는, 어떤 자료구조와 알고리즘을 사용하느냐에 따라 프로그램의 성능 차이가 큼\n"
      ],
      "metadata": {
        "id": "H5kndrcRkJzi"
      }
    },
    {
      "cell_type": "markdown",
      "source": [
        "# **3. 파이썬을 활용한 자료구조와 알고리즘**\n",
        "* 어떤 언어로든 자료구조와 알고리즘은 익힐 수 있음\n",
        "* 예전에는 C언어 또는 C++로 작성하는 경우가 많았음 (추천)\n",
        "* 최근에는 언어로 인한 제약/평가는 없어짐\n",
        "* 가장 쉽고 빠르게 자료구조/알고리즘을 익힐 수 있는 언어 -> 파이썬\n"
      ],
      "metadata": {
        "id": "bkRNnLYvkybS"
      }
    },
    {
      "cell_type": "markdown",
      "source": [
        "# **4. 배열**\n",
        "* 데이터를 나열하고 각 데이터를 인덱스에 대응하도록 구성한 자료구조\n",
        "* 파이썬의 리스트 타입은 배열 기능을 제공함\n"
      ],
      "metadata": {
        "id": "bmdmdSeDkzKc"
      }
    },
    {
      "cell_type": "markdown",
      "source": [
        "### 1-1. 배열이 필요한 이유\n",
        "* 같은 종류의 데이터를 효율적으로 관리하기 위해 사용\n",
        "* 같은 종류의 데이터를 순차적으로 저장\n",
        "* 빠른 접근이 가능(인덱스 번호로 접근)"
      ],
      "metadata": {
        "id": "KJYN0MshkzN8"
      }
    },
    {
      "cell_type": "markdown",
      "source": [
        "### 1-2. 배열의 단점\n",
        "* 미리 최대 길이를 설정해야함\n",
        "* 데이터의 추가/삭제가 어려움\n"
      ],
      "metadata": {
        "id": "BzNLE9O4kzQ4"
      }
    },
    {
      "cell_type": "code",
      "source": [
        "# 1차원 배열 : 리스트로 구현\n",
        "arr = [1, 2, 3, 4, 5]\n",
        "print(arr)"
      ],
      "metadata": {
        "colab": {
          "base_uri": "https://localhost:8080/"
        },
        "id": "i7WPQYtCkzTz",
        "outputId": "8cf4936d-4b4b-4b72-a56b-ba8a9607b88f"
      },
      "execution_count": 1,
      "outputs": [
        {
          "output_type": "stream",
          "name": "stdout",
          "text": [
            "[1, 2, 3, 4, 5]\n"
          ]
        }
      ]
    },
    {
      "cell_type": "code",
      "source": [
        "# 2차원 배열 : 리스트로 구현\n",
        "arr = [[1, 2, 3], [4, 5, 6], [7, 8, 9]]\n",
        "print(arr)"
      ],
      "metadata": {
        "colab": {
          "base_uri": "https://localhost:8080/"
        },
        "id": "3gIt6MWrkzXS",
        "outputId": "0a02d45e-29e6-4be6-dd3f-cf394bdaf366"
      },
      "execution_count": 2,
      "outputs": [
        {
          "output_type": "stream",
          "name": "stdout",
          "text": [
            "[[1, 2, 3], [4, 5, 6], [7, 8, 9]]\n"
          ]
        }
      ]
    },
    {
      "cell_type": "code",
      "source": [
        "print(arr[0])\n",
        "print(arr[0][1])"
      ],
      "metadata": {
        "colab": {
          "base_uri": "https://localhost:8080/"
        },
        "id": "skVFY4w5k0KR",
        "outputId": "73e7b6a1-a230-4dd6-cf83-3ef6d594f9d7"
      },
      "execution_count": 4,
      "outputs": [
        {
          "output_type": "stream",
          "name": "stdout",
          "text": [
            "[1, 2, 3]\n",
            "2\n"
          ]
        }
      ]
    },
    {
      "cell_type": "code",
      "source": [
        "# arr에서 값을 9, 8 ,7 순서로 출력\n",
        "print(arr[2][::-1])"
      ],
      "metadata": {
        "colab": {
          "base_uri": "https://localhost:8080/"
        },
        "id": "GjfJe6K8k0GL",
        "outputId": "730deeab-16b3-4a3f-ab5e-d6e7b47bf15d"
      },
      "execution_count": 5,
      "outputs": [
        {
          "output_type": "stream",
          "name": "stdout",
          "text": [
            "[9, 8, 7]\n"
          ]
        }
      ]
    },
    {
      "cell_type": "markdown",
      "source": [
        "### 문제1\n",
        "아래 data 배열에서 전체 이름안에 'M' 알파벳이 몇 번 출현하는지 빈도수를 출력\n",
        "```\n",
        "data = ['Braund, Mr. Owen Harris',\n",
        "'Cumings, Mrs. John Bradley (Florence Briggs Thayer)',\n",
        "'Heikkinen, Miss. Laina',\n",
        "'Futrelle, Mrs. Jacques Heath (Lily May Peel)',\n",
        "'Allen, Mr. William Henry',\n",
        "'Moran, Mr. James',\n",
        "'McCarthy, Mr. Timothy J',\n",
        "'Palsson, Master. Gosta Leonard',\n",
        "'Johnson, Mrs. Oscar W (Elisabeth Vilhelmina Berg)',\n",
        "'Nasser, Mrs. Nicholas (Adele Achem)',\n",
        "'Sandstrom, Miss. Marguerite Rut',\n",
        "'Bonnell, Miss. Elizabeth',\n",
        "'Saundercock, Mr. William Henry',\n",
        "'Andersson, Mr. Anders Johan',\n",
        "'Vestrom, Miss. Hulda Amanda Adolfina',\n",
        "'Hewlett, Mrs. (Mary D Kingcome) ',\n",
        "'Rice, Master. Eugene',\n",
        "'Williams, Mr. Charles Eugene',\n",
        "'Vander Planke, Mrs. Julius (Emelia Maria Vandemoortele)',\n",
        "'Masselmani, Mrs. Fatima',\n",
        "'Fynney, Mr. Joseph J',\n",
        "'Beesley, Mr. Lawrence',\n",
        "'McGowan, Miss. Anna \"Annie\"',\n",
        "'Sloper, Mr. William Thompson',\n",
        "'Palsson, Miss. Torborg Danira',\n",
        "'Asplund, Mrs. Carl Oscar (Selma Augusta Emilia Johansson)',\n",
        "'Emir, Mr. Farred Chehab',\n",
        "'Fortune, Mr. Charles Alexander',\n",
        "'Dwyer, Miss. Ellen \"Nellie\"',\n",
        "'Todoroff, Mr. Lalio']\n",
        "```"
      ],
      "metadata": {
        "id": "07WUr3yXk0DO"
      }
    },
    {
      "cell_type": "code",
      "source": [
        "data = ['Braund, Mr. Owen Harris',\n",
        "'Cumings, Mrs. John Bradley (Florence Briggs Thayer)',\n",
        "'Heikkinen, Miss. Laina',\n",
        "'Futrelle, Mrs. Jacques Heath (Lily May Peel)',\n",
        "'Allen, Mr. William Henry',\n",
        "'Moran, Mr. James',\n",
        "'McCarthy, Mr. Timothy J',\n",
        "'Palsson, Master. Gosta Leonard',\n",
        "'Johnson, Mrs. Oscar W (Elisabeth Vilhelmina Berg)',\n",
        "'Nasser, Mrs. Nicholas (Adele Achem)',\n",
        "'Sandstrom, Miss. Marguerite Rut',\n",
        "'Bonnell, Miss. Elizabeth',\n",
        "'Saundercock, Mr. William Henry',\n",
        "'Andersson, Mr. Anders Johan',\n",
        "'Vestrom, Miss. Hulda Amanda Adolfina',\n",
        "'Hewlett, Mrs. (Mary D Kingcome) ',\n",
        "'Rice, Master. Eugene',\n",
        "'Williams, Mr. Charles Eugene',\n",
        "'Vander Planke, Mrs. Julius (Emelia Maria Vandemoortele)',\n",
        "'Masselmani, Mrs. Fatima',\n",
        "'Fynney, Mr. Joseph J',\n",
        "'Beesley, Mr. Lawrence',\n",
        "'McGowan, Miss. Anna \"Annie\"',\n",
        "'Sloper, Mr. William Thompson',\n",
        "'Palsson, Miss. Torborg Danira',\n",
        "'Asplund, Mrs. Carl Oscar (Selma Augusta Emilia Johansson)',\n",
        "'Emir, Mr. Farred Chehab',\n",
        "'Fortune, Mr. Charles Alexander',\n",
        "'Dwyer, Miss. Ellen \"Nellie\"',\n",
        "'Todoroff, Mr. Lalio']"
      ],
      "metadata": {
        "id": "RttXDFYfkz_I"
      },
      "execution_count": 6,
      "outputs": []
    },
    {
      "cell_type": "code",
      "source": [
        "cnt = 0\n",
        "for i in data :\n",
        "  for j in i :\n",
        "    if j == 'M' :\n",
        "      cnt += 1\n",
        "\n",
        "print(cnt)"
      ],
      "metadata": {
        "colab": {
          "base_uri": "https://localhost:8080/"
        },
        "id": "D8P4KVQxkz7B",
        "outputId": "1dea3dfb-eb66-47f5-85fd-fcb19c7a3dc0"
      },
      "execution_count": 8,
      "outputs": [
        {
          "output_type": "stream",
          "name": "stdout",
          "text": [
            "38\n"
          ]
        }
      ]
    },
    {
      "cell_type": "code",
      "source": [
        "a = 0\n",
        "for i in data :\n",
        "  a += i.count('M')\n",
        "\n",
        "print(a)"
      ],
      "metadata": {
        "colab": {
          "base_uri": "https://localhost:8080/"
        },
        "id": "ig9qNHctkz3h",
        "outputId": "f25199fd-218a-4969-b9bc-a16468d4102a"
      },
      "execution_count": 11,
      "outputs": [
        {
          "output_type": "stream",
          "name": "stdout",
          "text": [
            "38\n"
          ]
        }
      ]
    },
    {
      "cell_type": "code",
      "source": [
        "print(sum(i.count('M') for i in data))"
      ],
      "metadata": {
        "colab": {
          "base_uri": "https://localhost:8080/"
        },
        "id": "m4ApUhaUkz0A",
        "outputId": "a7ecd71c-52a5-48c7-ea66-aac20167efbf"
      },
      "execution_count": 12,
      "outputs": [
        {
          "output_type": "stream",
          "name": "stdout",
          "text": [
            "38\n"
          ]
        }
      ]
    },
    {
      "cell_type": "code",
      "source": [
        "len(''.join(j for i in data for j in i if j == 'M'))"
      ],
      "metadata": {
        "colab": {
          "base_uri": "https://localhost:8080/"
        },
        "id": "Wu-GtYv_kzwe",
        "outputId": "289a97aa-f9b1-4f2e-877c-a2aee5f46260"
      },
      "execution_count": 25,
      "outputs": [
        {
          "output_type": "execute_result",
          "data": {
            "text/plain": [
              "38"
            ]
          },
          "metadata": {},
          "execution_count": 25
        }
      ]
    },
    {
      "cell_type": "code",
      "source": [],
      "metadata": {
        "id": "lUf2l_0RkzlW"
      },
      "execution_count": null,
      "outputs": []
    },
    {
      "cell_type": "code",
      "source": [],
      "metadata": {
        "id": "7Osg5S3nkzh2"
      },
      "execution_count": null,
      "outputs": []
    },
    {
      "cell_type": "code",
      "source": [],
      "metadata": {
        "id": "LiVmdYNxkzdL"
      },
      "execution_count": null,
      "outputs": []
    },
    {
      "cell_type": "code",
      "source": [],
      "metadata": {
        "id": "oD9cvkdCkzaO"
      },
      "execution_count": null,
      "outputs": []
    }
  ]
}