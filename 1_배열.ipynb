{
  "nbformat": 4,
  "nbformat_minor": 0,
  "metadata": {
    "colab": {
      "provenance": [],
      "authorship_tag": "ABX9TyNvKcESX+4j+ZlsbtoCZONc",
      "include_colab_link": true
    },
    "kernelspec": {
      "name": "python3",
      "display_name": "Python 3"
    },
    "language_info": {
      "name": "python"
    }
  },
  "cells": [
    {
      "cell_type": "markdown",
      "metadata": {
        "id": "view-in-github",
        "colab_type": "text"
      },
      "source": [
        "<a href=\"https://colab.research.google.com/github/EG-world/DataStructure/blob/main/1_%EB%B0%B0%EC%97%B4.ipynb\" target=\"_parent\"><img src=\"https://colab.research.google.com/assets/colab-badge.svg\" alt=\"Open In Colab\"/></a>"
      ]
    },
    {
      "cell_type": "markdown",
      "source": [
        "# **1. 자료구조(Data Structure)**\n",
        "* 대량의 데이터를 효율적으로 관리할 수 있는 데이터의 구조를 의미\n",
        "* 코드상에서 효율적으로 데이터를 처리하기 위해 데이터의 특징에 따라 체게적으로 구조화해야 함\n",
        "\n",
        "> 대표적인 자료구조는 배열, 스택, 링크드리스트, 해쉬테이블, 힙 등..."
      ],
      "metadata": {
        "id": "ZEjlZGdAjEbU"
      }
    },
    {
      "cell_type": "markdown",
      "source": [
        "# **2. 알고리즘(Algorithm)**\n",
        "* 어떤 문제를 풀기 위한 절차 및 방법\n",
        "* 어떤 문제에 대해 특정한 \"입력\"을 넣으면 원하는 \"출력\"을 얻을 수 있도록 만드는 프로그램\n",
        "\n",
        "> 자료구조와 알고리즘이 중요한 이유는, 어떤 자료구조와 알고리즘을 사용하느냐에 따라 프로그램의 성능 차이가 큼\n"
      ],
      "metadata": {
        "id": "H5kndrcRkJzi"
      }
    },
    {
      "cell_type": "markdown",
      "source": [
        "# **3. 파이썬을 활용한 자료구조와 알고리즘**\n",
        "* 어떤 언어로든 자료구조와 알고리즘은 익힐 수 있음"
      ],
      "metadata": {
        "id": "bkRNnLYvkybS"
      }
    },
    {
      "cell_type": "code",
      "source": [],
      "metadata": {
        "id": "bmdmdSeDkzKc"
      },
      "execution_count": null,
      "outputs": []
    },
    {
      "cell_type": "code",
      "source": [],
      "metadata": {
        "id": "KJYN0MshkzN8"
      },
      "execution_count": null,
      "outputs": []
    },
    {
      "cell_type": "code",
      "source": [],
      "metadata": {
        "id": "BzNLE9O4kzQ4"
      },
      "execution_count": null,
      "outputs": []
    },
    {
      "cell_type": "code",
      "source": [],
      "metadata": {
        "id": "i7WPQYtCkzTz"
      },
      "execution_count": null,
      "outputs": []
    },
    {
      "cell_type": "code",
      "source": [],
      "metadata": {
        "id": "3gIt6MWrkzXS"
      },
      "execution_count": null,
      "outputs": []
    },
    {
      "cell_type": "code",
      "source": [],
      "metadata": {
        "id": "skVFY4w5k0KR"
      },
      "execution_count": null,
      "outputs": []
    },
    {
      "cell_type": "code",
      "source": [],
      "metadata": {
        "id": "GjfJe6K8k0GL"
      },
      "execution_count": null,
      "outputs": []
    },
    {
      "cell_type": "code",
      "source": [],
      "metadata": {
        "id": "07WUr3yXk0DO"
      },
      "execution_count": null,
      "outputs": []
    },
    {
      "cell_type": "code",
      "source": [],
      "metadata": {
        "id": "RttXDFYfkz_I"
      },
      "execution_count": null,
      "outputs": []
    },
    {
      "cell_type": "code",
      "source": [],
      "metadata": {
        "id": "D8P4KVQxkz7B"
      },
      "execution_count": null,
      "outputs": []
    },
    {
      "cell_type": "code",
      "source": [],
      "metadata": {
        "id": "ig9qNHctkz3h"
      },
      "execution_count": null,
      "outputs": []
    },
    {
      "cell_type": "code",
      "source": [],
      "metadata": {
        "id": "m4ApUhaUkz0A"
      },
      "execution_count": null,
      "outputs": []
    },
    {
      "cell_type": "code",
      "source": [],
      "metadata": {
        "id": "Wu-GtYv_kzwe"
      },
      "execution_count": null,
      "outputs": []
    },
    {
      "cell_type": "code",
      "source": [],
      "metadata": {
        "id": "UIF49cO1kzsY"
      },
      "execution_count": null,
      "outputs": []
    },
    {
      "cell_type": "code",
      "source": [],
      "metadata": {
        "id": "RmK9Cy9pkzo4"
      },
      "execution_count": null,
      "outputs": []
    },
    {
      "cell_type": "code",
      "source": [],
      "metadata": {
        "id": "lUf2l_0RkzlW"
      },
      "execution_count": null,
      "outputs": []
    },
    {
      "cell_type": "code",
      "source": [],
      "metadata": {
        "id": "7Osg5S3nkzh2"
      },
      "execution_count": null,
      "outputs": []
    },
    {
      "cell_type": "code",
      "source": [],
      "metadata": {
        "id": "LiVmdYNxkzdL"
      },
      "execution_count": null,
      "outputs": []
    },
    {
      "cell_type": "code",
      "source": [],
      "metadata": {
        "id": "oD9cvkdCkzaO"
      },
      "execution_count": null,
      "outputs": []
    }
  ]
}