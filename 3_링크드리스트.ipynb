{
  "nbformat": 4,
  "nbformat_minor": 0,
  "metadata": {
    "colab": {
      "provenance": [],
      "authorship_tag": "ABX9TyPeVbekEStPSk+tWwt/voca",
      "include_colab_link": true
    },
    "kernelspec": {
      "name": "python3",
      "display_name": "Python 3"
    },
    "language_info": {
      "name": "python"
    }
  },
  "cells": [
    {
      "cell_type": "markdown",
      "metadata": {
        "id": "view-in-github",
        "colab_type": "text"
      },
      "source": [
        "<a href=\"https://colab.research.google.com/github/EG-world/DataStructure/blob/main/3_%EB%A7%81%ED%81%AC%EB%93%9C%EB%A6%AC%EC%8A%A4%ED%8A%B8.ipynb\" target=\"_parent\"><img src=\"https://colab.research.google.com/assets/colab-badge.svg\" alt=\"Open In Colab\"/></a>"
      ]
    },
    {
      "cell_type": "markdown",
      "source": [
        "# **1. 링크드리스트**\n",
        "* 떨어진 곳에 존재하는 데이터를 화살표로 연결하여 관리하는 구조\n",
        "* c언어에서는 아주 중요한 자료구조지만, 파이썬에서 리스트 타입이 링크드리스트 역할도 이미 지원함\n",
        "* 데이터 삽입/삭제 매우빠름"
      ],
      "metadata": {
        "id": "riwl0-y0DqYs"
      }
    },
    {
      "cell_type": "markdown",
      "source": [
        "### 1-1. 링크드리스트 용어\n",
        "* 노드(node) : 데이터 저장 단위(데이터, 포인터)\n",
        "* 포인터(pointer) : 각 노드 안에서 다음이나 이전의 노드와의 연결정보를 가지고 있는 공간"
      ],
      "metadata": {
        "id": "qFkNl5XeEvvb"
      }
    },
    {
      "cell_type": "code",
      "source": [
        "# 링크드리스트 구현\n",
        "# 파이썬에서는 링크드리스트를 구현할 때 클래스를 주로 활용\n",
        "\n",
        "class Node :\n",
        "  def __init__(self, data) :\n",
        "    self.data = data\n",
        "    self.next = None"
      ],
      "metadata": {
        "id": "XTj4lJEKFXT_"
      },
      "execution_count": 1,
      "outputs": []
    },
    {
      "cell_type": "code",
      "source": [
        "# Node 객체와 Node 객체를 연결하기(포인터 활용)\n",
        "node1 = Node(1)"
      ],
      "metadata": {
        "id": "NOe467O8FnsE"
      },
      "execution_count": 2,
      "outputs": []
    },
    {
      "cell_type": "code",
      "source": [
        "node2 = Node(2)"
      ],
      "metadata": {
        "id": "oeEEZNQCF1H3"
      },
      "execution_count": 3,
      "outputs": []
    },
    {
      "cell_type": "code",
      "source": [
        "node1.next = node2"
      ],
      "metadata": {
        "id": "67pWbkESF5dT"
      },
      "execution_count": 4,
      "outputs": []
    },
    {
      "cell_type": "code",
      "source": [
        "head = node1"
      ],
      "metadata": {
        "id": "tqMJlX06F5g2"
      },
      "execution_count": 5,
      "outputs": []
    },
    {
      "cell_type": "code",
      "source": [
        "# 링크드리스트로 데이터 추가하기\n",
        "class Node :\n",
        "  def __init__(self, data) :\n",
        "    self.data = data\n",
        "    self.next = None\n",
        "\n",
        "  def add(self, data) :\n",
        "    node = head\n",
        "    while node.next : # 주소가 있는지 확인\n",
        "      node = node.next\n",
        "    node.next = Node(data)"
      ],
      "metadata": {
        "id": "jD93AbkqF5kW"
      },
      "execution_count": 6,
      "outputs": []
    },
    {
      "cell_type": "code",
      "source": [
        "node1 = Node(1)\n",
        "head = node1\n",
        "for index in range(2,11) :\n",
        "  node1.add(index)"
      ],
      "metadata": {
        "id": "9I8ATGjeF5nR"
      },
      "execution_count": 7,
      "outputs": []
    },
    {
      "cell_type": "code",
      "source": [
        "node1"
      ],
      "metadata": {
        "colab": {
          "base_uri": "https://localhost:8080/"
        },
        "id": "hC9HvSN-F5qM",
        "outputId": "21e2a420-105c-4a3b-eef5-b1f5914ebab9"
      },
      "execution_count": 8,
      "outputs": [
        {
          "output_type": "execute_result",
          "data": {
            "text/plain": [
              "<__main__.Node at 0x7c632c3cd570>"
            ]
          },
          "metadata": {},
          "execution_count": 8
        }
      ]
    },
    {
      "cell_type": "code",
      "source": [
        "# 링크드리스트 데이터 출력하기\n",
        "node = head\n",
        "while node.next :\n",
        "  print(node.data)\n",
        "  node = node.next\n",
        "print(node.data)"
      ],
      "metadata": {
        "colab": {
          "base_uri": "https://localhost:8080/"
        },
        "id": "hUavoMlUF5tI",
        "outputId": "4c001a2b-1b5e-421d-c8d0-d0626f21245a"
      },
      "execution_count": 10,
      "outputs": [
        {
          "output_type": "stream",
          "name": "stdout",
          "text": [
            "1\n",
            "2\n",
            "3\n",
            "4\n",
            "5\n",
            "6\n",
            "7\n",
            "8\n",
            "9\n",
            "10\n"
          ]
        }
      ]
    },
    {
      "cell_type": "markdown",
      "source": [
        "### 문제1\n",
        "* 현재 링크드리스트 객체에 3.5 데이터를 삽입하려고 함\n",
        "* 단, 3.5는 3과 4 사이에 넣을 수 있도록 함\n"
      ],
      "metadata": {
        "id": "4E_M6oHSF5wG"
      }
    },
    {
      "cell_type": "code",
      "source": [
        "node2 = Node(3.5)"
      ],
      "metadata": {
        "id": "hpQ-fL7IF5zD"
      },
      "execution_count": 14,
      "outputs": []
    },
    {
      "cell_type": "code",
      "source": [
        "node = head\n",
        "while node :\n",
        "  if node.data == 3 :\n",
        "    node2.next = node.next\n",
        "    node.next = node2\n",
        "    break\n",
        "  node = node.next"
      ],
      "metadata": {
        "id": "NaDzgDd8NYv5"
      },
      "execution_count": 15,
      "outputs": []
    },
    {
      "cell_type": "code",
      "source": [
        "# 링크드리스트 데이터 출력하기\n",
        "node = head\n",
        "while node.next :\n",
        "  print(node.data)\n",
        "  node = node.next\n",
        "print(node.data)"
      ],
      "metadata": {
        "colab": {
          "base_uri": "https://localhost:8080/"
        },
        "id": "4ekb3ddeVbYj",
        "outputId": "dde85b33-b09f-43d0-963a-290f61d783e7"
      },
      "execution_count": 16,
      "outputs": [
        {
          "output_type": "stream",
          "name": "stdout",
          "text": [
            "1\n",
            "2\n",
            "3\n",
            "3.5\n",
            "4\n",
            "5\n",
            "6\n",
            "7\n",
            "8\n",
            "9\n",
            "10\n"
          ]
        }
      ]
    },
    {
      "cell_type": "code",
      "source": [
        "node = head\n",
        "search = False\n",
        "\n",
        "while not search :\n",
        "  if node.data == 3 :\n",
        "    search = True\n",
        "  else :\n",
        "    node = node.next\n",
        "\n",
        "node_next = node.next # 3번 노드의 포인터에 저장된 4번 주소를 node_next에 넣어줌\n",
        "node.next = node2"
      ],
      "metadata": {
        "id": "um8LdnIhmAZ5"
      },
      "execution_count": null,
      "outputs": []
    },
    {
      "cell_type": "markdown",
      "source": [
        "### 문제2\n",
        "링크드리스트를 객체지향 프로그래밍으로 구현"
      ],
      "metadata": {
        "id": "OSD0kR8Fn26J"
      }
    },
    {
      "cell_type": "code",
      "source": [
        "class Node :\n",
        "  def __init__(self, data, next=None) :\n",
        "    self.data = data\n",
        "    self.next = next"
      ],
      "metadata": {
        "id": "KgugYJf6n6o7"
      },
      "execution_count": 74,
      "outputs": []
    },
    {
      "cell_type": "code",
      "source": [
        "class NodeMgmt :\n",
        "  def __init__(self, data) :\n",
        "    self.head = Node(data)\n",
        "\n",
        "  def add(self, data) :\n",
        "    if self.head is None:\n",
        "      self.head = Node(data)\n",
        "    else :\n",
        "      node = self.head\n",
        "      while node.next :\n",
        "        node = node.next\n",
        "      node.next = Node(data)\n",
        "\n",
        "  def node_print(self) :\n",
        "    node = self.head\n",
        "    while node :\n",
        "      print(node.data)\n",
        "      node = node.next\n",
        "\n",
        "  def delete(self, data) :\n",
        "    # head에 node가 없을경우\n",
        "    if self.head is None :\n",
        "      print('head에 노드가 없습니다')\n",
        "      return\n",
        "\n",
        "    # 지우려는 값이 head에 있는경우\n",
        "    if self.head.data == data :\n",
        "      print('지우려는 값이 헤드에 있습니다')\n",
        "      temp = self.head\n",
        "      self.head = self.head.next\n",
        "      del temp\n",
        "\n",
        "    # 지우려는 값이 head에 없는경우\n",
        "    else :\n",
        "      print('지우려는 값이 head에 없습니다')\n",
        "      node = self.head\n",
        "      while node.next :\n",
        "        if node.next.data == data :\n",
        "          temp = node.next\n",
        "          node.next = node.next.next\n",
        "          del temp\n",
        "          return\n",
        "        else :\n",
        "          node = node.next"
      ],
      "metadata": {
        "id": "Y12-CWtuxQTn"
      },
      "execution_count": 75,
      "outputs": []
    },
    {
      "cell_type": "code",
      "source": [
        "linkedlist = NodeMgmt(0)"
      ],
      "metadata": {
        "id": "kb50LxnO19Iw"
      },
      "execution_count": 79,
      "outputs": []
    },
    {
      "cell_type": "code",
      "source": [
        "node = head"
      ],
      "metadata": {
        "id": "t4-VE2sf2C8o"
      },
      "execution_count": null,
      "outputs": []
    },
    {
      "cell_type": "code",
      "source": [
        "linkedlist.node_print()"
      ],
      "metadata": {
        "colab": {
          "base_uri": "https://localhost:8080/"
        },
        "id": "LgQVafxC1fEz",
        "outputId": "88930def-986a-4f6a-8355-8fecc104f1e9"
      },
      "execution_count": 80,
      "outputs": [
        {
          "output_type": "stream",
          "name": "stdout",
          "text": [
            "0\n"
          ]
        }
      ]
    },
    {
      "cell_type": "code",
      "source": [
        "linkedlist.delete(0)"
      ],
      "metadata": {
        "colab": {
          "base_uri": "https://localhost:8080/"
        },
        "id": "6LIr8yUO1jiI",
        "outputId": "3f12011a-19ce-4501-925c-025ae35158e5"
      },
      "execution_count": 81,
      "outputs": [
        {
          "output_type": "stream",
          "name": "stdout",
          "text": [
            "지우려는 값이 헤드에 있습니다\n"
          ]
        }
      ]
    },
    {
      "cell_type": "code",
      "source": [
        "linkedlist.node_print()"
      ],
      "metadata": {
        "id": "7_6rismk1hd5"
      },
      "execution_count": 82,
      "outputs": []
    },
    {
      "cell_type": "code",
      "source": [],
      "metadata": {
        "id": "Eq2kEw9H1rIM"
      },
      "execution_count": null,
      "outputs": []
    }
  ]
}