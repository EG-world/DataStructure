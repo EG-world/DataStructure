{
  "nbformat": 4,
  "nbformat_minor": 0,
  "metadata": {
    "colab": {
      "provenance": [],
      "authorship_tag": "ABX9TyN9q0DO+ZPHLXnRmhkN1RK9",
      "include_colab_link": true
    },
    "kernelspec": {
      "name": "python3",
      "display_name": "Python 3"
    },
    "language_info": {
      "name": "python"
    }
  },
  "cells": [
    {
      "cell_type": "markdown",
      "metadata": {
        "id": "view-in-github",
        "colab_type": "text"
      },
      "source": [
        "<a href=\"https://colab.research.google.com/github/EG-world/DataStructure/blob/main/3_%EB%A7%81%ED%81%AC%EB%93%9C%EB%A6%AC%EC%8A%A4%ED%8A%B8.ipynb\" target=\"_parent\"><img src=\"https://colab.research.google.com/assets/colab-badge.svg\" alt=\"Open In Colab\"/></a>"
      ]
    },
    {
      "cell_type": "markdown",
      "source": [
        "# **1. 링크드리스트**\n",
        "* 떨어진 곳에 존재하는 데이터를 화살표로 연결하여 관리하는 구조\n",
        "* c언어에서는 아주 중요한 자료구조지만, 파이썬에서 리스트 타입이 링크드리스트 역할도 이미 지원함\n",
        "* 데이터 삽입/삭제 매우빠름"
      ],
      "metadata": {
        "id": "riwl0-y0DqYs"
      }
    },
    {
      "cell_type": "markdown",
      "source": [
        "### 1-1. 링크드리스트 용어\n",
        "* 노드(node) : 데이터 저장 단위(데이터, 포인터)\n",
        "* 포인터(pointer) : 각 노드 안에서 다음이나 이전의 노드와의 연결정보를 가지고 있는 공간"
      ],
      "metadata": {
        "id": "qFkNl5XeEvvb"
      }
    },
    {
      "cell_type": "code",
      "source": [
        "# 링크드리스트 구현\n",
        "# 파이썬에서는 링크드리스트를 구현할 때 클래스를 주로 활용\n",
        "\n",
        "class Node :\n",
        "  def __init__(self, data) :\n",
        "    self.data = data\n",
        "    self.next = None"
      ],
      "metadata": {
        "id": "XTj4lJEKFXT_"
      },
      "execution_count": 1,
      "outputs": []
    },
    {
      "cell_type": "code",
      "source": [
        "# Node 객체와 Node 객체를 연결하기(포인터 활용)\n",
        "node1 = Node(1)"
      ],
      "metadata": {
        "id": "NOe467O8FnsE"
      },
      "execution_count": 2,
      "outputs": []
    },
    {
      "cell_type": "code",
      "source": [
        "node2 = Node(2)"
      ],
      "metadata": {
        "id": "oeEEZNQCF1H3"
      },
      "execution_count": 3,
      "outputs": []
    },
    {
      "cell_type": "code",
      "source": [
        "node1.next = node2"
      ],
      "metadata": {
        "id": "67pWbkESF5dT"
      },
      "execution_count": 4,
      "outputs": []
    },
    {
      "cell_type": "code",
      "source": [
        "head = node1"
      ],
      "metadata": {
        "id": "tqMJlX06F5g2"
      },
      "execution_count": 5,
      "outputs": []
    },
    {
      "cell_type": "code",
      "source": [
        "# 링크드리스트로 데이터 추가하기\n",
        "class Node :\n",
        "  def __init__(self, data) :\n",
        "    self.data = data\n",
        "    self.next = None\n",
        "\n",
        "  def add(self, data) :\n",
        "    node = head\n",
        "    while node.next : # 주소가 있는지 확인\n",
        "      node = node.next\n",
        "    node.next = Node(data)"
      ],
      "metadata": {
        "id": "jD93AbkqF5kW"
      },
      "execution_count": 6,
      "outputs": []
    },
    {
      "cell_type": "code",
      "source": [
        "node1 = Node(1)\n",
        "head = node1\n",
        "for index in range(2,11) :\n",
        "  node1.add(index)"
      ],
      "metadata": {
        "id": "9I8ATGjeF5nR"
      },
      "execution_count": 7,
      "outputs": []
    },
    {
      "cell_type": "code",
      "source": [
        "node1"
      ],
      "metadata": {
        "colab": {
          "base_uri": "https://localhost:8080/"
        },
        "id": "hC9HvSN-F5qM",
        "outputId": "21e2a420-105c-4a3b-eef5-b1f5914ebab9"
      },
      "execution_count": 8,
      "outputs": [
        {
          "output_type": "execute_result",
          "data": {
            "text/plain": [
              "<__main__.Node at 0x7c632c3cd570>"
            ]
          },
          "metadata": {},
          "execution_count": 8
        }
      ]
    },
    {
      "cell_type": "code",
      "source": [
        "# 링크드리스트 데이터 출력하기\n",
        "node = head\n",
        "while node.next :\n",
        "  print(node.data)\n",
        "  node = node.next\n",
        "print(node.data)"
      ],
      "metadata": {
        "colab": {
          "base_uri": "https://localhost:8080/"
        },
        "id": "hUavoMlUF5tI",
        "outputId": "4c001a2b-1b5e-421d-c8d0-d0626f21245a"
      },
      "execution_count": 10,
      "outputs": [
        {
          "output_type": "stream",
          "name": "stdout",
          "text": [
            "1\n",
            "2\n",
            "3\n",
            "4\n",
            "5\n",
            "6\n",
            "7\n",
            "8\n",
            "9\n",
            "10\n"
          ]
        }
      ]
    },
    {
      "cell_type": "markdown",
      "source": [
        "### 문제1\n"
      ],
      "metadata": {
        "id": "4E_M6oHSF5wG"
      }
    },
    {
      "cell_type": "code",
      "source": [],
      "metadata": {
        "id": "hpQ-fL7IF5zD"
      },
      "execution_count": null,
      "outputs": []
    },
    {
      "cell_type": "code",
      "source": [],
      "metadata": {
        "id": "neAheIRhF52i"
      },
      "execution_count": null,
      "outputs": []
    }
  ]
}