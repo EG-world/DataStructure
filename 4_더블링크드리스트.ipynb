{
  "nbformat": 4,
  "nbformat_minor": 0,
  "metadata": {
    "colab": {
      "provenance": [],
      "authorship_tag": "ABX9TyO0ymmHMFRI1ISVZbFYIrRY",
      "include_colab_link": true
    },
    "kernelspec": {
      "name": "python3",
      "display_name": "Python 3"
    },
    "language_info": {
      "name": "python"
    }
  },
  "cells": [
    {
      "cell_type": "markdown",
      "metadata": {
        "id": "view-in-github",
        "colab_type": "text"
      },
      "source": [
        "<a href=\"https://colab.research.google.com/github/EG-world/DataStructure/blob/main/4_%EB%8D%94%EB%B8%94%EB%A7%81%ED%81%AC%EB%93%9C%EB%A6%AC%EC%8A%A4%ED%8A%B8.ipynb\" target=\"_parent\"><img src=\"https://colab.research.google.com/assets/colab-badge.svg\" alt=\"Open In Colab\"/></a>"
      ]
    },
    {
      "cell_type": "markdown",
      "source": [
        "# **1. 더블링크드리스트**\n",
        "* 양방향으로 연결되어 있어서 노드 탐색이 양쪽으로 모두 가능"
      ],
      "metadata": {
        "id": "Iq24zNyx2IEV"
      }
    },
    {
      "cell_type": "code",
      "source": [
        "class Node :\n",
        "  def __init__(self, data, prev=None, next=None) :\n",
        "    self.data = data\n",
        "    self.prev = prev\n",
        "    self.next = next"
      ],
      "metadata": {
        "id": "dtYcX1aQ2fkF"
      },
      "execution_count": 125,
      "outputs": []
    },
    {
      "cell_type": "code",
      "source": [
        "class NodeMgmt :\n",
        "  def __init__(self, data) :\n",
        "    self.head = Node(data)\n",
        "    self.tail = self.head\n",
        "\n",
        "  def insert(self, data) :\n",
        "    if self.head is None :\n",
        "      self.head = Node(data)\n",
        "      self.tail = self.head\n",
        "    else :\n",
        "      node = self.head\n",
        "      while node.next :\n",
        "        node = node.next\n",
        "      new = Node(data)\n",
        "      node.next = new\n",
        "      new.prerv = node\n",
        "      self.tail = new\n",
        "\n",
        "  def node_print(self) :\n",
        "    node = self.head\n",
        "    while node :\n",
        "      print(node.data)\n",
        "      node = node.next\n",
        "\n",
        "  def search_from_head(self, data) :\n",
        "    # node = self.head\n",
        "    # while node.next :\n",
        "    #   if node.data == data :\n",
        "    #     print(node.data)\n",
        "    #     return\n",
        "    #   node = node.next\n",
        "    # return False\n",
        "    if self.head == None:\n",
        "      return False\n",
        "    node = self.head\n",
        "    while node :\n",
        "      if node.data == data :\n",
        "        return node.data\n",
        "      else :\n",
        "        node = node.next\n",
        "    return False\n",
        "\n",
        "\n",
        "\n",
        "  def search_from_tail(self, data) :\n",
        "    if self.tail == None:\n",
        "      return False\n",
        "    node = self.tail\n",
        "    while node :\n",
        "      if node.data == data :\n",
        "        return node.data\n",
        "      else :\n",
        "        node = node.prev\n",
        "    return False\n",
        "\n",
        "  def insert_before(self, data, before) :\n",
        "    if self.head == None :\n",
        "      self.head = Node(data)\n",
        "      return True\n",
        "    node = self.head\n",
        "    while node.next :\n",
        "      if node.next.data == before :\n",
        "        new = Node(data)\n",
        "        new.next = node.next\n",
        "        node.next = new\n",
        "        new.prerv = node\n",
        "        node = new.next\n",
        "      node = node.next\n",
        "    '''\n",
        "    while 문 대신 들어가는 강사님 코드\n",
        "\n",
        "    else:\n",
        "      node = self.tail\n",
        "      while node.data != after_data :\n",
        "        node = node.prev\n",
        "        if node == None :\n",
        "          return False\n",
        "      new = Node(data)\n",
        "      before_new = node.prev\n",
        "      before_new.next = new\n",
        "      new.prev = before_now\n",
        "      new.next = node\n",
        "      node.prev = new\n",
        "      return True\n",
        "    '''"
      ],
      "metadata": {
        "id": "qfFucxSL2f6X"
      },
      "execution_count": 139,
      "outputs": []
    },
    {
      "cell_type": "code",
      "source": [
        "double_linkedlist = NodeMgmt(0)\n",
        "\n",
        "for data in range(1,11) :\n",
        "  double_linkedlist.insert(data)"
      ],
      "metadata": {
        "id": "2SvDWJMX2f8s"
      },
      "execution_count": 140,
      "outputs": []
    },
    {
      "cell_type": "code",
      "source": [
        "double_linkedlist.node_print()"
      ],
      "metadata": {
        "colab": {
          "base_uri": "https://localhost:8080/"
        },
        "id": "8KL5yba32f_n",
        "outputId": "73eecfde-ec67-444c-fc65-1fb48bf09985"
      },
      "execution_count": 141,
      "outputs": [
        {
          "output_type": "stream",
          "name": "stdout",
          "text": [
            "0\n",
            "1\n",
            "2\n",
            "3\n",
            "4\n",
            "5\n",
            "6\n",
            "7\n",
            "8\n",
            "9\n",
            "10\n"
          ]
        }
      ]
    },
    {
      "cell_type": "code",
      "source": [
        "double_linkedlist.search_from_head(7)"
      ],
      "metadata": {
        "id": "cmX1hxAF2gB9",
        "colab": {
          "base_uri": "https://localhost:8080/"
        },
        "outputId": "1fd8a926-0b80-4199-e52b-f4ac671655d4"
      },
      "execution_count": 142,
      "outputs": [
        {
          "output_type": "execute_result",
          "data": {
            "text/plain": [
              "7"
            ]
          },
          "metadata": {},
          "execution_count": 142
        }
      ]
    },
    {
      "cell_type": "code",
      "source": [
        "double_linkedlist.insert_before(5.5,6)"
      ],
      "metadata": {
        "id": "lWHVzlWg2gE9"
      },
      "execution_count": 143,
      "outputs": []
    },
    {
      "cell_type": "code",
      "source": [
        "double_linkedlist.insert_before(4.5,5)"
      ],
      "metadata": {
        "id": "An5M_KeQ2gKL"
      },
      "execution_count": 144,
      "outputs": []
    },
    {
      "cell_type": "code",
      "source": [
        "double_linkedlist.node_print()"
      ],
      "metadata": {
        "id": "CpqetL4y2gHP",
        "colab": {
          "base_uri": "https://localhost:8080/"
        },
        "outputId": "2a0bffe0-3a9f-47d4-91ba-df0c8c0f814f"
      },
      "execution_count": 145,
      "outputs": [
        {
          "output_type": "stream",
          "name": "stdout",
          "text": [
            "0\n",
            "1\n",
            "2\n",
            "3\n",
            "4\n",
            "4.5\n",
            "5\n",
            "5.5\n",
            "6\n",
            "7\n",
            "8\n",
            "9\n",
            "10\n"
          ]
        }
      ]
    },
    {
      "cell_type": "code",
      "source": [],
      "metadata": {
        "id": "0zKNWEJu2gMs"
      },
      "execution_count": null,
      "outputs": []
    },
    {
      "cell_type": "code",
      "source": [],
      "metadata": {
        "id": "6Zei3CYk2gPd"
      },
      "execution_count": null,
      "outputs": []
    },
    {
      "cell_type": "markdown",
      "source": [
        "### 문제 1\n",
        "데이터를 앞에서부터 검색하여 해당 값이 존재하는 경우 그 값을 반환하고, 존재하지 않으면 False를 반환"
      ],
      "metadata": {
        "id": "MxHPueiE2gR1"
      }
    },
    {
      "cell_type": "markdown",
      "source": [
        "### 문제2\n",
        "데이터를 뒤에서부터 검색하여 해당 값이 존재하는 경우 그 값을 반환하고, 존재하지 않으면 False를 반환"
      ],
      "metadata": {
        "id": "6239IRyj47ka"
      }
    },
    {
      "cell_type": "markdown",
      "source": [
        "### 문제3\n",
        "* 위 코드에서 코드 데이터가 특정 숫자인 노드 앞에 데이터를 추가하는 메서드를 만들고 테스트해보자\n",
        "* 단, 기준값을 찾지못할 경우 데이터를 삽입하지 않음\n",
        "\n",
        "```\n",
        "insert_before(삽입할 데이터, 기준값)\n",
        "삽입할 데이터 : 실제 삽입될 데이터\n",
        "기준값 : 기준값 앞에 데이터가 삽입 되도록 함\n",
        "```"
      ],
      "metadata": {
        "id": "yLWQBgp3sdhq"
      }
    },
    {
      "cell_type": "code",
      "source": [],
      "metadata": {
        "id": "naWh5ncZtFRT"
      },
      "execution_count": null,
      "outputs": []
    }
  ]
}