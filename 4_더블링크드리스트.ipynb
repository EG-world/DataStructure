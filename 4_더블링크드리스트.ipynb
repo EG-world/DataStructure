{
  "nbformat": 4,
  "nbformat_minor": 0,
  "metadata": {
    "colab": {
      "provenance": [],
      "authorship_tag": "ABX9TyM+Y2WObHsFtZ6LcAepiLuM",
      "include_colab_link": true
    },
    "kernelspec": {
      "name": "python3",
      "display_name": "Python 3"
    },
    "language_info": {
      "name": "python"
    }
  },
  "cells": [
    {
      "cell_type": "markdown",
      "metadata": {
        "id": "view-in-github",
        "colab_type": "text"
      },
      "source": [
        "<a href=\"https://colab.research.google.com/github/EG-world/DataStructure/blob/main/4_%EB%8D%94%EB%B8%94%EB%A7%81%ED%81%AC%EB%93%9C%EB%A6%AC%EC%8A%A4%ED%8A%B8.ipynb\" target=\"_parent\"><img src=\"https://colab.research.google.com/assets/colab-badge.svg\" alt=\"Open In Colab\"/></a>"
      ]
    },
    {
      "cell_type": "markdown",
      "source": [
        "# **1. 더블링크드리스트**\n",
        "* 양방향으로 연결되어 있어서 노드 탐색이 양쪽으로 모두 가능"
      ],
      "metadata": {
        "id": "Iq24zNyx2IEV"
      }
    },
    {
      "cell_type": "code",
      "source": [
        "class Node :\n",
        "  def __init__(self, data, prev=None, next=None) :\n",
        "    self.data = data\n",
        "    self.prev = prev\n",
        "    self.next = next"
      ],
      "metadata": {
        "id": "dtYcX1aQ2fkF"
      },
      "execution_count": 6,
      "outputs": []
    },
    {
      "cell_type": "code",
      "source": [
        "class NodeMgmt :\n",
        "  def __init__(self, data) :\n",
        "    self.head = Node(data)\n",
        "    self.tail = self.head\n",
        "\n",
        "  def insert(self, data) :\n",
        "    if self.head is None :\n",
        "      self.head = Node(data)\n",
        "      self.tail = self.head\n",
        "    else :\n",
        "      node = self.head\n",
        "      while node.next :\n",
        "        node = node.next\n",
        "      new = Node(data)\n",
        "      node.next = new\n",
        "      new.perv = node\n",
        "      self.tail = new\n",
        "\n",
        "  def node_print(self) :\n",
        "    node = self.head\n",
        "    while node :\n",
        "      print(node.data)\n",
        "      node = node.next\n",
        "\n",
        "  def search_from_head(self, data) :\n",
        "    pass\n",
        "\n",
        "  def search_from_tail(self, data) :\n",
        "    pass"
      ],
      "metadata": {
        "id": "qfFucxSL2f6X"
      },
      "execution_count": 14,
      "outputs": []
    },
    {
      "cell_type": "code",
      "source": [
        "double_linkedlist = NodeMgmt(0)\n",
        "\n",
        "for data in range(1,11) :\n",
        "  double_linkedlist.insert(data)"
      ],
      "metadata": {
        "id": "2SvDWJMX2f8s"
      },
      "execution_count": 15,
      "outputs": []
    },
    {
      "cell_type": "code",
      "source": [
        "double_linkedlist.node_print()"
      ],
      "metadata": {
        "colab": {
          "base_uri": "https://localhost:8080/"
        },
        "id": "8KL5yba32f_n",
        "outputId": "9700c14e-2d41-48b4-dc9b-cda22e0ae7dc"
      },
      "execution_count": 16,
      "outputs": [
        {
          "output_type": "stream",
          "name": "stdout",
          "text": [
            "0\n",
            "1\n",
            "2\n",
            "3\n",
            "4\n",
            "5\n",
            "6\n",
            "7\n",
            "8\n",
            "9\n",
            "10\n"
          ]
        }
      ]
    },
    {
      "cell_type": "code",
      "source": [],
      "metadata": {
        "id": "cmX1hxAF2gB9"
      },
      "execution_count": null,
      "outputs": []
    },
    {
      "cell_type": "code",
      "source": [],
      "metadata": {
        "id": "lWHVzlWg2gE9"
      },
      "execution_count": null,
      "outputs": []
    },
    {
      "cell_type": "code",
      "source": [],
      "metadata": {
        "id": "CpqetL4y2gHP"
      },
      "execution_count": null,
      "outputs": []
    },
    {
      "cell_type": "code",
      "source": [],
      "metadata": {
        "id": "An5M_KeQ2gKL"
      },
      "execution_count": null,
      "outputs": []
    },
    {
      "cell_type": "code",
      "source": [],
      "metadata": {
        "id": "0zKNWEJu2gMs"
      },
      "execution_count": null,
      "outputs": []
    },
    {
      "cell_type": "code",
      "source": [],
      "metadata": {
        "id": "6Zei3CYk2gPd"
      },
      "execution_count": null,
      "outputs": []
    },
    {
      "cell_type": "markdown",
      "source": [
        "### 문제 1\n",
        "데이터를 앞에서부터 검색하여 해당 값이 존재하는 경우 그 값을 반환하고, 존재하지 않으면 False를 반환"
      ],
      "metadata": {
        "id": "MxHPueiE2gR1"
      }
    },
    {
      "cell_type": "markdown",
      "source": [
        "### 문제2\n",
        "데이터를 뒤에서부터 검색하여 해당 값이 존재하는 경우 그 값을 반환하고, 존재하지 않으면 False를 반환"
      ],
      "metadata": {
        "id": "6239IRyj47ka"
      }
    },
    {
      "cell_type": "code",
      "source": [],
      "metadata": {
        "id": "a75f7-v25QW8"
      },
      "execution_count": null,
      "outputs": []
    }
  ]
}