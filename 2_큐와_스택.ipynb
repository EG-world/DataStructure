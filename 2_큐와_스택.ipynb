{
  "nbformat": 4,
  "nbformat_minor": 0,
  "metadata": {
    "colab": {
      "provenance": [],
      "authorship_tag": "ABX9TyNbW6tLDWfPujTgfsjRzcvi",
      "include_colab_link": true
    },
    "kernelspec": {
      "name": "python3",
      "display_name": "Python 3"
    },
    "language_info": {
      "name": "python"
    }
  },
  "cells": [
    {
      "cell_type": "markdown",
      "metadata": {
        "id": "view-in-github",
        "colab_type": "text"
      },
      "source": [
        "<a href=\"https://colab.research.google.com/github/EG-world/DataStructure/blob/main/2_%ED%81%90%EC%99%80_%EC%8A%A4%ED%83%9D.ipynb\" target=\"_parent\"><img src=\"https://colab.research.google.com/assets/colab-badge.svg\" alt=\"Open In Colab\"/></a>"
      ]
    },
    {
      "cell_type": "markdown",
      "source": [
        "# **1. 큐의 구조**\n",
        "* 가장 먼저 넣은 데이터를 가장 먼저 꺼낼 수 있는 구조\n",
        "* 줄을 서는 행위와 유사\n",
        "* FIFO(First-in, First-out)\n",
        "* [Visualgo](https://visualgo.net/en/list)"
      ],
      "metadata": {
        "id": "26HHr8zuy-ub"
      }
    },
    {
      "cell_type": "markdown",
      "source": [
        "### 1-1. 큐의 용어\n",
        "* Enqueue : 큐에 데이터를 넣는 기능\n",
        "* Dequeue : 큐에 데이터를 꺼내는 기능"
      ],
      "metadata": {
        "id": "wzogtF3qzFWm"
      }
    },
    {
      "cell_type": "markdown",
      "source": [
        "### 1-2. 큐의 사용\n",
        "* 푸시메세지(순서대로 발송)\n",
        "* 멀티테스킹을 위한 프로세스 스케쥴링 방식을 구현(운영체제)"
      ],
      "metadata": {
        "id": "bqLvLvIW0HNU"
      }
    },
    {
      "cell_type": "markdown",
      "source": [
        "### 1-3. 파이썬 queue 라이브러리를 활용하여 queue 자료구조를 사용\n",
        "* Queue() : 가장 일반적인 큐 자료구조를 생성\n",
        "* LifoQueue() : 나중에 입력된 데이터가 먼저 출력되는 구조의 큐 자료구조를 생성(스택 구조와 비슷)\n",
        "* PriorityQueue() : 데이터마다 우선순위를 넣어서 우선순위가 높은 순으로 데이터를 출력"
      ],
      "metadata": {
        "id": "uVdYz4W60H4K"
      }
    },
    {
      "cell_type": "code",
      "source": [
        "import queue"
      ],
      "metadata": {
        "id": "OKhFmwHQ0H7D"
      },
      "execution_count": 1,
      "outputs": []
    },
    {
      "cell_type": "code",
      "source": [
        "data_queue = queue.Queue()\n",
        "data_queue.put('Hello')\n",
        "data_queue.put('Python')\n",
        "data_queue.put('Hello')\n",
        "data_queue.put('World')\n",
        "print(data_queue)\n",
        "print(data_queue.qsize())\n",
        "print(data_queue.get()) # Dequeue\n",
        "print(data_queue.qsize())"
      ],
      "metadata": {
        "colab": {
          "base_uri": "https://localhost:8080/"
        },
        "id": "UK_BCEUn0H9_",
        "outputId": "545a19f4-82eb-4e4f-91e8-48263a880feb"
      },
      "execution_count": 5,
      "outputs": [
        {
          "output_type": "stream",
          "name": "stdout",
          "text": [
            "<queue.Queue object at 0x7aeb286f28c0>\n",
            "4\n",
            "Hello\n",
            "3\n"
          ]
        }
      ]
    },
    {
      "cell_type": "code",
      "source": [],
      "metadata": {
        "id": "ZXKDRxwu0IxD"
      },
      "execution_count": null,
      "outputs": []
    },
    {
      "cell_type": "code",
      "source": [],
      "metadata": {
        "id": "eF1YRJbM0IuH"
      },
      "execution_count": null,
      "outputs": []
    },
    {
      "cell_type": "code",
      "source": [],
      "metadata": {
        "id": "ozbPEc0n0Iql"
      },
      "execution_count": null,
      "outputs": []
    },
    {
      "cell_type": "code",
      "source": [],
      "metadata": {
        "id": "FIOczwOD0InQ"
      },
      "execution_count": null,
      "outputs": []
    },
    {
      "cell_type": "code",
      "source": [],
      "metadata": {
        "id": "P4WpE-Fc0Ijj"
      },
      "execution_count": null,
      "outputs": []
    },
    {
      "cell_type": "code",
      "source": [],
      "metadata": {
        "id": "TZK9FB-70IgC"
      },
      "execution_count": null,
      "outputs": []
    },
    {
      "cell_type": "code",
      "source": [],
      "metadata": {
        "id": "8jUAeFN10IdG"
      },
      "execution_count": null,
      "outputs": []
    },
    {
      "cell_type": "code",
      "source": [],
      "metadata": {
        "id": "rGJtiMGZ0IZl"
      },
      "execution_count": null,
      "outputs": []
    },
    {
      "cell_type": "code",
      "source": [],
      "metadata": {
        "id": "hatktJFV0IWr"
      },
      "execution_count": null,
      "outputs": []
    },
    {
      "cell_type": "code",
      "source": [],
      "metadata": {
        "id": "75avyJGB0ITI"
      },
      "execution_count": null,
      "outputs": []
    },
    {
      "cell_type": "code",
      "source": [],
      "metadata": {
        "id": "UUjtbNbY0IPm"
      },
      "execution_count": null,
      "outputs": []
    },
    {
      "cell_type": "code",
      "source": [],
      "metadata": {
        "id": "5J0v-H3E0IMr"
      },
      "execution_count": null,
      "outputs": []
    },
    {
      "cell_type": "code",
      "source": [],
      "metadata": {
        "id": "nIkkv8Kp0IJI"
      },
      "execution_count": null,
      "outputs": []
    },
    {
      "cell_type": "code",
      "source": [],
      "metadata": {
        "id": "PKEPU82p0IEc"
      },
      "execution_count": null,
      "outputs": []
    },
    {
      "cell_type": "code",
      "source": [],
      "metadata": {
        "id": "LEtTVidf0IA8"
      },
      "execution_count": null,
      "outputs": []
    }
  ]
}