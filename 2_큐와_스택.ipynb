{
  "nbformat": 4,
  "nbformat_minor": 0,
  "metadata": {
    "colab": {
      "provenance": [],
      "authorship_tag": "ABX9TyMVXaV6B74HFNsBXvS7Raov",
      "include_colab_link": true
    },
    "kernelspec": {
      "name": "python3",
      "display_name": "Python 3"
    },
    "language_info": {
      "name": "python"
    }
  },
  "cells": [
    {
      "cell_type": "markdown",
      "metadata": {
        "id": "view-in-github",
        "colab_type": "text"
      },
      "source": [
        "<a href=\"https://colab.research.google.com/github/EG-world/DataStructure/blob/main/2_%ED%81%90%EC%99%80_%EC%8A%A4%ED%83%9D.ipynb\" target=\"_parent\"><img src=\"https://colab.research.google.com/assets/colab-badge.svg\" alt=\"Open In Colab\"/></a>"
      ]
    },
    {
      "cell_type": "markdown",
      "source": [
        "# **1. 큐의 구조**\n",
        "* 가장 먼저 넣은 데이터를 가장 먼저 꺼낼 수 있는 구조\n",
        "* 줄을 서는 행위와 유사\n",
        "* FIFO(First-in, First-out)\n",
        "* [Visualgo](https://visualgo.net/en/list)"
      ],
      "metadata": {
        "id": "26HHr8zuy-ub"
      }
    },
    {
      "cell_type": "markdown",
      "source": [
        "### 1-1. 큐의 용어\n",
        "* Enqueue : 큐에 데이터를 넣는 기능\n",
        "* Dequeue : 큐에 데이터를 꺼내는 기능"
      ],
      "metadata": {
        "id": "wzogtF3qzFWm"
      }
    },
    {
      "cell_type": "markdown",
      "source": [
        "### 1-2. 큐의 사용\n",
        "* 푸시메세지(순서대로 발송)\n",
        "* 멀티테스킹을 위한 프로세스 스케쥴링 방식을 구현(운영체제)"
      ],
      "metadata": {
        "id": "bqLvLvIW0HNU"
      }
    },
    {
      "cell_type": "markdown",
      "source": [
        "### 1-3. 파이썬 queue 라이브러리를 활용하여 queue 자료구조를 사용\n",
        "* Queue() : 가장 일반적인 큐 자료구조를 생성\n",
        "* LifoQueue() : 나중에 입력된 데이터가 먼저 출력되는 구조의 큐 자료구조를 생성(스택 구조와 비슷)\n",
        "* PriorityQueue() : 데이터마다 우선순위를 넣어서 우선순위가 높은 순으로 데이터를 출력"
      ],
      "metadata": {
        "id": "uVdYz4W60H4K"
      }
    },
    {
      "cell_type": "code",
      "source": [
        "import queue"
      ],
      "metadata": {
        "id": "OKhFmwHQ0H7D"
      },
      "execution_count": 1,
      "outputs": []
    },
    {
      "cell_type": "code",
      "source": [
        "data_queue = queue.Queue()\n",
        "data_queue.put('Hello')\n",
        "data_queue.put('Python')\n",
        "data_queue.put('Hello')\n",
        "data_queue.put('World')\n",
        "print(data_queue)\n",
        "print(data_queue.qsize())\n",
        "print(data_queue.get()) # Dequeue\n",
        "print(data_queue.qsize())"
      ],
      "metadata": {
        "colab": {
          "base_uri": "https://localhost:8080/"
        },
        "id": "UK_BCEUn0H9_",
        "outputId": "545a19f4-82eb-4e4f-91e8-48263a880feb"
      },
      "execution_count": 5,
      "outputs": [
        {
          "output_type": "stream",
          "name": "stdout",
          "text": [
            "<queue.Queue object at 0x7aeb286f28c0>\n",
            "4\n",
            "Hello\n",
            "3\n"
          ]
        }
      ]
    },
    {
      "cell_type": "code",
      "source": [
        "for i in range(data_queue.qsize()) :\n",
        "  print(data_queue.get())"
      ],
      "metadata": {
        "colab": {
          "base_uri": "https://localhost:8080/"
        },
        "id": "ZXKDRxwu0IxD",
        "outputId": "9e94c4ac-c1a4-439a-a35a-d44a4723c34f"
      },
      "execution_count": 6,
      "outputs": [
        {
          "output_type": "stream",
          "name": "stdout",
          "text": [
            "Python\n",
            "Hello\n",
            "World\n"
          ]
        }
      ]
    },
    {
      "cell_type": "code",
      "source": [
        "# LifoQueue()로 큐 만들기\n",
        "data_queue = queue.LifoQueue()\n",
        "data_queue.put('Hello')\n",
        "data_queue.put('Python')\n",
        "data_queue.put('Hello')\n",
        "data_queue.put('World')\n",
        "print(data_queue.qsize())\n",
        "print(data_queue.get())"
      ],
      "metadata": {
        "colab": {
          "base_uri": "https://localhost:8080/"
        },
        "id": "eF1YRJbM0IuH",
        "outputId": "bcafa728-0d2f-478f-d893-f4a42c2ce69f"
      },
      "execution_count": 8,
      "outputs": [
        {
          "output_type": "stream",
          "name": "stdout",
          "text": [
            "4\n",
            "World\n"
          ]
        }
      ]
    },
    {
      "cell_type": "code",
      "source": [
        "# PriorityQueue()로 큐 만들기\n",
        "data_queue = queue.PriorityQueue()\n",
        "data_queue.put((10, '김사과'))\n",
        "data_queue.put((5, '반하나'))\n",
        "data_queue.put((7, '오렌지'))\n",
        "data_queue.put((2, '이메론'))\n",
        "data_queue.put((8, '채리'))\n",
        "print(data_queue.qsize())\n",
        "print(data_queue.get())\n",
        "print(data_queue.get())"
      ],
      "metadata": {
        "colab": {
          "base_uri": "https://localhost:8080/"
        },
        "id": "ozbPEc0n0Iql",
        "outputId": "b79fce89-49e7-430d-fb87-02a7e42fee91"
      },
      "execution_count": 12,
      "outputs": [
        {
          "output_type": "stream",
          "name": "stdout",
          "text": [
            "5\n",
            "(2, '이메론')\n",
            "(5, '반하나')\n"
          ]
        }
      ]
    },
    {
      "cell_type": "markdown",
      "source": [
        "### 문제1\n",
        "리스트 변수로 큐를 다루는 enqueue, dequeue 기능을 구현해보자"
      ],
      "metadata": {
        "id": "FIOczwOD0InQ"
      }
    },
    {
      "cell_type": "code",
      "source": [
        "queue_li = list()"
      ],
      "metadata": {
        "id": "P4WpE-Fc0Ijj"
      },
      "execution_count": 19,
      "outputs": []
    },
    {
      "cell_type": "code",
      "source": [
        "def enqueue(data) :\n",
        "  queue_li.append(data)\n",
        "\n",
        "def dequeue() :\n",
        "  return queue_li.pop(0)"
      ],
      "metadata": {
        "id": "TZK9FB-70IgC"
      },
      "execution_count": 22,
      "outputs": []
    },
    {
      "cell_type": "code",
      "source": [
        "enqueue(10)\n",
        "enqueue(20)\n",
        "enqueue(30)\n",
        "enqueue(40)"
      ],
      "metadata": {
        "id": "8jUAeFN10IdG"
      },
      "execution_count": 23,
      "outputs": []
    },
    {
      "cell_type": "code",
      "source": [
        "queue_li"
      ],
      "metadata": {
        "colab": {
          "base_uri": "https://localhost:8080/"
        },
        "id": "rGJtiMGZ0IZl",
        "outputId": "6483c771-940a-4744-99c0-10edceaf7fef"
      },
      "execution_count": 30,
      "outputs": [
        {
          "output_type": "execute_result",
          "data": {
            "text/plain": [
              "[20, 30, 40]"
            ]
          },
          "metadata": {},
          "execution_count": 30
        }
      ]
    },
    {
      "cell_type": "code",
      "source": [
        "dequeue()"
      ],
      "metadata": {
        "colab": {
          "base_uri": "https://localhost:8080/"
        },
        "id": "hatktJFV0IWr",
        "outputId": "d274bd43-8f44-44fe-ef94-276ae5154cf7"
      },
      "execution_count": 29,
      "outputs": [
        {
          "output_type": "execute_result",
          "data": {
            "text/plain": [
              "10"
            ]
          },
          "metadata": {},
          "execution_count": 29
        }
      ]
    },
    {
      "cell_type": "code",
      "source": [
        "def enqueue(data) :\n",
        "  queue_li.append(data)\n",
        "\n",
        "def dequeue() :\n",
        "  temp = queue_li[0]\n",
        "  del queue_li[0]\n",
        "  return temp"
      ],
      "metadata": {
        "id": "75avyJGB0ITI"
      },
      "execution_count": 31,
      "outputs": []
    },
    {
      "cell_type": "markdown",
      "source": [
        "# **2. 스택의 구조**\n",
        "* 가장 나중에 넣은 데이터를 가장 먼저 꺼낼 수 있는 구조\n",
        "* 한쪽 끝에서만 자료를 넣거나 뺄 수 있는 구조\n",
        "* LIFO(Last-in, First-out)"
      ],
      "metadata": {
        "id": "PKEPU82p0IEc"
      }
    },
    {
      "cell_type": "markdown",
      "source": [
        "### 2-1. 스택의 용어\n",
        "* push : 데이터를 스택에 쌓기\n",
        "* Dequeue : 데이터를 스택에서 꺼내기"
      ],
      "metadata": {
        "id": "LEtTVidf0IA8"
      }
    },
    {
      "cell_type": "markdown",
      "source": [
        "### 2-2. 스택의 사용\n",
        "* 컴퓨터 내부의 프로세스 구조의 함수 동작 방식"
      ],
      "metadata": {
        "id": "hvr3Bb3G-k7K"
      }
    },
    {
      "cell_type": "markdown",
      "source": [
        "### 2-3. 큐와 스택의 장단점\n",
        "* 장점\n",
        "  * 구조가 단순해서 구현하기 쉬움\n",
        "  * 데이터 저장/읽기 속도가 빠름\n",
        "\n",
        "* 단점\n",
        "  * 데이터 최대 개수를 미리 정해야 함 -> (스택) : 파이썬의 경우 재귀함수는 1000번까지만 호출이 가능\n",
        "  * 저장 공간의 낭비가 발생 할 수 있다 -> 미리 최대 개수만큼 저장공간을 확보해야함\n",
        "\n",
        "  > 스택과 큐는 단순하고 빠른 성능을 위해 사용하므로 보통 배열 구조를 활용해서 구현하는 것이 일반적"
      ],
      "metadata": {
        "id": "iVc1vthE-lMm"
      }
    },
    {
      "cell_type": "code",
      "source": [
        "# 파이썬 리스트 기능에서 제공하는 메소드로 스택 사용하기\n",
        "data_stack = list()"
      ],
      "metadata": {
        "id": "c0IBo7Ql-lO8"
      },
      "execution_count": 36,
      "outputs": []
    },
    {
      "cell_type": "code",
      "source": [
        "data_stack.append(2)\n",
        "data_stack.append(10)\n",
        "data_stack.append(4)\n",
        "data_stack.append(8)\n",
        "print(data_stack)"
      ],
      "metadata": {
        "colab": {
          "base_uri": "https://localhost:8080/"
        },
        "id": "X3yDd9LW-lR5",
        "outputId": "c2346967-d2b5-4623-c92e-02185975899a"
      },
      "execution_count": 37,
      "outputs": [
        {
          "output_type": "stream",
          "name": "stdout",
          "text": [
            "[2, 10, 4, 8]\n"
          ]
        }
      ]
    },
    {
      "cell_type": "code",
      "source": [
        "data_stack.pop()\n",
        "print(data_stack)"
      ],
      "metadata": {
        "colab": {
          "base_uri": "https://localhost:8080/"
        },
        "id": "RNRB-3KR-lUz",
        "outputId": "f120ea1d-0d75-4173-9a75-884fd313c126"
      },
      "execution_count": 38,
      "outputs": [
        {
          "output_type": "stream",
          "name": "stdout",
          "text": [
            "[2, 10, 4]\n"
          ]
        }
      ]
    },
    {
      "cell_type": "markdown",
      "source": [
        "### 문제2\n",
        "* 리스트 변수로 스택을 다루는 pop, push 기능을 직접 구현해보자\n",
        "* 단, 리스트의 pop, push 함수는 사용하지 않음"
      ],
      "metadata": {
        "id": "pDb_H6Qw-lXJ"
      }
    },
    {
      "cell_type": "code",
      "source": [
        "stack_li = list()\n",
        "def push(data) :\n",
        "  stack_li.append(data)\n",
        "\n",
        "def pop() :\n",
        "  temp = stack_li[-1]\n",
        "  del stack_li[-1]\n",
        "  return temp"
      ],
      "metadata": {
        "id": "y5SUGPUh-laF"
      },
      "execution_count": 39,
      "outputs": []
    },
    {
      "cell_type": "code",
      "source": [
        "push(20)\n",
        "push(30)\n",
        "push(40)\n",
        "push(55)"
      ],
      "metadata": {
        "id": "ov6J79oT-l68"
      },
      "execution_count": 44,
      "outputs": []
    },
    {
      "cell_type": "code",
      "source": [
        "pop()"
      ],
      "metadata": {
        "colab": {
          "base_uri": "https://localhost:8080/"
        },
        "id": "hS8Ai424CNIW",
        "outputId": "c75e5e15-585b-4548-f8da-7c157c8d7252"
      },
      "execution_count": 46,
      "outputs": [
        {
          "output_type": "execute_result",
          "data": {
            "text/plain": [
              "55"
            ]
          },
          "metadata": {},
          "execution_count": 46
        }
      ]
    },
    {
      "cell_type": "code",
      "source": [
        "print(stack_li)"
      ],
      "metadata": {
        "colab": {
          "base_uri": "https://localhost:8080/"
        },
        "id": "avsl-930-l3d",
        "outputId": "a561c110-6597-4460-abe0-6ab9d38d830e"
      },
      "execution_count": 45,
      "outputs": [
        {
          "output_type": "stream",
          "name": "stdout",
          "text": [
            "[2, 10, 20, 30, 40, 55]\n"
          ]
        }
      ]
    },
    {
      "cell_type": "code",
      "source": [],
      "metadata": {
        "id": "zIBQ2Ftx-l0i"
      },
      "execution_count": null,
      "outputs": []
    },
    {
      "cell_type": "code",
      "source": [],
      "metadata": {
        "id": "Cgw4NiDc-lxl"
      },
      "execution_count": null,
      "outputs": []
    },
    {
      "cell_type": "code",
      "source": [],
      "metadata": {
        "id": "LnIxEsZy-luR"
      },
      "execution_count": null,
      "outputs": []
    },
    {
      "cell_type": "code",
      "source": [],
      "metadata": {
        "id": "QIO2hpdM-lrs"
      },
      "execution_count": null,
      "outputs": []
    },
    {
      "cell_type": "code",
      "source": [],
      "metadata": {
        "id": "O1gQvy-h-loL"
      },
      "execution_count": null,
      "outputs": []
    },
    {
      "cell_type": "code",
      "source": [],
      "metadata": {
        "id": "FjdYj_kP-llP"
      },
      "execution_count": null,
      "outputs": []
    },
    {
      "cell_type": "code",
      "source": [],
      "metadata": {
        "id": "VsdNEYbz-lhI"
      },
      "execution_count": null,
      "outputs": []
    },
    {
      "cell_type": "code",
      "source": [],
      "metadata": {
        "id": "j0a-V39j-lcn"
      },
      "execution_count": null,
      "outputs": []
    }
  ]
}